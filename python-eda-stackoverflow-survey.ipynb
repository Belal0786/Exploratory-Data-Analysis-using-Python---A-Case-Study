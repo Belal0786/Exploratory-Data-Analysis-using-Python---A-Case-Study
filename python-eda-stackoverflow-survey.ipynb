{
 "cells": [
  {
   "attachments": {},
   "cell_type": "markdown",
   "metadata": {},
   "source": [
    "# Exploratory Data Analysis using Python - A Case Study\n",
    "\n",
    "*Analyzing responses from the Stack Overflow Annual Developer Survey 2020*\n",
    "\n",
    "![](https://i.imgur.com/qXhHKqv.png)\n",
    "\n",
    "### Part 9 of \"Data Analysis with Python: Zero to Pandas\"\n",
    "\n",
    "This tutorial series is a beginner-friendly introduction to programming and data analysis using the Python programming language. These tutorials take a practical and coding-focused approach. The best way to learn the material is to execute the code and experiment with it yourself. Check out the full series here: \n",
    "\n",
    "1. [First Steps with Python and Jupyter](https://jovian.ai/aakashns/first-steps-with-python)\n",
    "2. [A Quick Tour of Variables and Data Types](https://jovian.ai/aakashns/python-variables-and-data-types)\n",
    "3. [Branching using Conditional Statements and Loops](https://jovian.ai/aakashns/python-branching-and-loops)\n",
    "4. [Writing Reusable Code Using Functions](https://jovian.ai/aakashns/python-functions-and-scope)\n",
    "5. [Reading from and Writing to Files](https://jovian.ai/aakashns/python-os-and-filesystem)\n",
    "6. [Numerical Computing with Python and Numpy](https://jovian.ai/aakashns/python-numerical-computing-with-numpy)\n",
    "7. [Analyzing Tabular Data using Pandas](https://jovian.ai/aakashns/python-pandas-data-analysis)\n",
    "8. [Data Visualization using Matplotlib & Seaborn](https://jovian.ai/aakashns/python-matplotlib-data-visualization)\n",
    "9. [Exploratory Data Analysis - A Case Study](https://jovian.ai/aakashns/python-eda-stackoverflow-survey)\n"
   ]
  },
  {
   "cell_type": "markdown",
   "metadata": {},
   "source": [
    "The following topics are covered in this tutorial:\n",
    "\n",
    "- Selecting and downloading a dataset\n",
    "- Data preparation and cleaning\n",
    "- Exploratory analysis and visualization\n",
    "- Asking and answering interesting questions\n",
    "- Summarizing inferences and drawing conclusions"
   ]
  },
  {
   "cell_type": "markdown",
   "metadata": {},
   "source": [
    "### How to run the code\n",
    "\n",
    "This tutorial is an executable [Jupyter notebook](https://jupyter.org) hosted on [Jovian](https://www.jovian.ai). You can _run_ this tutorial and experiment with the code examples in a couple of ways: *using free online resources* (recommended) or *on your computer*.\n",
    "\n",
    "#### Option 1: Running using free online resources (1-click, recommended)\n",
    "\n",
    "The easiest way to start executing the code is to click the **Run** button at the top of this page and select **Run on Binder**. You can also select \"Run on Colab\" or \"Run on Kaggle\", but you'll need to create an account on [Google Colab](https://colab.research.google.com) or [Kaggle](https://kaggle.com) to use these platforms.\n",
    "\n",
    "\n",
    "#### Option 2: Running on your computer locally\n",
    "\n",
    "To run the code on your computer locally, you'll need to set up [Python](https://www.python.org), download the notebook and install the required libraries. We recommend using the [Conda](https://docs.conda.io/projects/conda/en/latest/user-guide/install/) distribution of Python. Click the **Run** button at the top of this page, select the **Run Locally** option, and follow the instructions.\n",
    "\n",
    ">  **Jupyter Notebooks**: This tutorial is a [Jupyter notebook](https://jupyter.org) - a document made of _cells_. Each cell can contain code written in Python or explanations in plain English. You can execute code cells and view the results, e.g., numbers, messages, graphs, tables, files, etc., instantly within the notebook. Jupyter is a powerful platform for experimentation and analysis. Don't be afraid to mess around with the code & break things - you'll learn a lot by encountering and fixing errors. You can use the \"Kernel > Restart & Clear Output\" menu option to clear all outputs and start again from the top."
   ]
  },
  {
   "cell_type": "markdown",
   "metadata": {},
   "source": [
    "## Introduction\n",
    "\n",
    "In this tutorial, we'll analyze the StackOverflow developer survey dataset. The dataset contains responses to an annual survey conducted by StackOverflow. You can find the raw data & official analysis here: https://insights.stackoverflow.com/survey.\n",
    "\n",
    "There are several options for getting the dataset into Jupyter:\n",
    "\n",
    "- Download the CSV manually and upload it via Jupyter's GUI\n",
    "- Use the `urlretrieve` function from the `urllib.request` to download CSV files from a raw URL\n",
    "- Use a helper library, e.g., [`opendatasets`](https://github.com/JovianML/opendatasets), which contains a collection of curated datasets and provides a helper function for direct download.\n",
    "\n",
    "We'll use the `opendatasets` helper library to download the files."
   ]
  },
  {
   "cell_type": "code",
   "execution_count": 3,
   "metadata": {},
   "outputs": [],
   "source": [
    "import opendatasets as od"
   ]
  },
  {
   "cell_type": "code",
   "execution_count": 2,
   "metadata": {},
   "outputs": [
    {
     "name": "stdout",
     "output_type": "stream",
     "text": [
      "Collecting opendatasets\n",
      "  Downloading opendatasets-0.1.22-py3-none-any.whl (15 kB)\n",
      "Requirement already satisfied: tqdm in c:\\python310\\lib\\site-packages (from opendatasets) (4.64.1)\n",
      "Collecting kaggle\n",
      "  Downloading kaggle-1.6.14.tar.gz (82 kB)\n",
      "     ---------------------------------------- 82.1/82.1 kB 1.5 MB/s eta 0:00:00\n",
      "  Preparing metadata (setup.py): started\n",
      "  Preparing metadata (setup.py): finished with status 'done'\n",
      "Requirement already satisfied: click in c:\\python310\\lib\\site-packages (from opendatasets) (8.1.3)\n",
      "Requirement already satisfied: colorama in c:\\python310\\lib\\site-packages (from click->opendatasets) (0.4.5)\n",
      "Requirement already satisfied: six>=1.10 in c:\\python310\\lib\\site-packages (from kaggle->opendatasets) (1.16.0)\n",
      "Requirement already satisfied: certifi>=2023.7.22 in c:\\python310\\lib\\site-packages (from kaggle->opendatasets) (2023.7.22)\n",
      "Requirement already satisfied: python-dateutil in c:\\python310\\lib\\site-packages (from kaggle->opendatasets) (2.8.2)\n",
      "Requirement already satisfied: requests in c:\\python310\\lib\\site-packages (from kaggle->opendatasets) (2.31.0)\n",
      "Collecting python-slugify\n",
      "  Downloading python_slugify-8.0.4-py2.py3-none-any.whl (10 kB)\n",
      "Requirement already satisfied: urllib3 in c:\\python310\\lib\\site-packages (from kaggle->opendatasets) (2.0.4)\n",
      "Requirement already satisfied: bleach in c:\\python310\\lib\\site-packages (from kaggle->opendatasets) (6.0.0)\n",
      "Requirement already satisfied: webencodings in c:\\python310\\lib\\site-packages (from bleach->kaggle->opendatasets) (0.5.1)\n",
      "Collecting text-unidecode>=1.3\n",
      "  Downloading text_unidecode-1.3-py2.py3-none-any.whl (78 kB)\n",
      "     ---------------------------------------- 78.2/78.2 kB 4.5 MB/s eta 0:00:00\n",
      "Requirement already satisfied: charset-normalizer<4,>=2 in c:\\python310\\lib\\site-packages (from requests->kaggle->opendatasets) (3.2.0)\n",
      "Requirement already satisfied: idna<4,>=2.5 in c:\\python310\\lib\\site-packages (from requests->kaggle->opendatasets) (3.4)\n",
      "Building wheels for collected packages: kaggle\n",
      "  Building wheel for kaggle (setup.py): started\n",
      "  Building wheel for kaggle (setup.py): finished with status 'done'\n",
      "  Created wheel for kaggle: filename=kaggle-1.6.14-py3-none-any.whl size=105147 sha256=acca72635ae6a0f9851f5caa857844567639dfb185718dd3426bdfbed6f57eb6\n",
      "  Stored in directory: c:\\users\\belal khan\\appdata\\local\\pip\\cache\\wheels\\d7\\54\\06\\8a8f40cb39536605feb9acaacd0237a95eba39e5065e6392f4\n",
      "Successfully built kaggle\n",
      "Installing collected packages: text-unidecode, python-slugify, kaggle, opendatasets\n",
      "Successfully installed kaggle-1.6.14 opendatasets-0.1.22 python-slugify-8.0.4 text-unidecode-1.3\n",
      "\n",
      "[notice] A new release of pip available: 22.1.2 -> 24.1.2\n",
      "[notice] To update, run: python.exe -m pip install --upgrade pip\n"
     ]
    }
   ],
   "source": [
    "!pip install opendatasets"
   ]
  },
  {
   "cell_type": "code",
   "execution_count": 4,
   "metadata": {},
   "outputs": [
    {
     "name": "stdout",
     "output_type": "stream",
     "text": [
      "Downloading https://raw.githubusercontent.com/JovianML/opendatasets/master/data/stackoverflow-developer-survey-2020/survey_results_public.csv to .\\stackoverflow-developer-survey-2020\\survey_results_public.csv\n"
     ]
    },
    {
     "name": "stderr",
     "output_type": "stream",
     "text": [
      "94609408it [12:50, 122730.55it/s]                                                                                      \n"
     ]
    },
    {
     "name": "stdout",
     "output_type": "stream",
     "text": [
      "Downloading https://raw.githubusercontent.com/JovianML/opendatasets/master/data/stackoverflow-developer-survey-2020/survey_results_schema.csv to .\\stackoverflow-developer-survey-2020\\survey_results_schema.csv\n"
     ]
    },
    {
     "name": "stderr",
     "output_type": "stream",
     "text": [
      "16384it [00:00, 29391.75it/s]                                                                                          \n"
     ]
    },
    {
     "name": "stdout",
     "output_type": "stream",
     "text": [
      "Downloading https://raw.githubusercontent.com/JovianML/opendatasets/master/data/stackoverflow-developer-survey-2020/README.txt to .\\stackoverflow-developer-survey-2020\\README.txt\n"
     ]
    },
    {
     "name": "stderr",
     "output_type": "stream",
     "text": [
      "8192it [00:00, 15877.15it/s]                                                                                           \n"
     ]
    }
   ],
   "source": [
    "od.download('stackoverflow-developer-survey-2020')"
   ]
  },
  {
   "cell_type": "markdown",
   "metadata": {},
   "source": [
    "Let's verify that the dataset was downloaded into the directory `stackoverflow-developer-survey-2020` and retrieve the list of files in the dataset."
   ]
  },
  {
   "cell_type": "code",
   "execution_count": 5,
   "metadata": {},
   "outputs": [],
   "source": [
    "import os"
   ]
  },
  {
   "cell_type": "code",
   "execution_count": 6,
   "metadata": {
    "scrolled": true
   },
   "outputs": [
    {
     "data": {
      "text/plain": [
       "['README.txt', 'survey_results_public.csv', 'survey_results_schema.csv']"
      ]
     },
     "execution_count": 6,
     "metadata": {},
     "output_type": "execute_result"
    }
   ],
   "source": [
    "os.listdir('stackoverflow-developer-survey-2020')"
   ]
  },
  {
   "cell_type": "markdown",
   "metadata": {},
   "source": [
    "You can through the downloaded files using the \"File\" > \"Open\" menu option in Jupyter. It seems like the dataset contains three files:\n",
    "\n",
    "- `README.txt` - Information about the dataset\n",
    "- `survey_results_schema.csv` - The list of questions, and shortcodes for each question\n",
    "- `survey_results_public.csv` - The full list of responses to the questions \n",
    "\n",
    "Let's load the CSV files using the Pandas library. We'll use the name `survey_raw_df` for the data frame to indicate this is unprocessed data that we might clean, filter, and modify to prepare a data frame ready for analysis."
   ]
  },
  {
   "cell_type": "code",
   "execution_count": 7,
   "metadata": {},
   "outputs": [],
   "source": [
    "import pandas as pd"
   ]
  },
  {
   "cell_type": "code",
   "execution_count": 8,
   "metadata": {},
   "outputs": [],
   "source": [
    "survey_raw_df = pd.read_csv('stackoverflow-developer-survey-2020/survey_results_public.csv')"
   ]
  },
  {
   "cell_type": "code",
   "execution_count": 9,
   "metadata": {},
   "outputs": [
    {
     "data": {
      "text/html": [
       "<div>\n",
       "<style scoped>\n",
       "    .dataframe tbody tr th:only-of-type {\n",
       "        vertical-align: middle;\n",
       "    }\n",
       "\n",
       "    .dataframe tbody tr th {\n",
       "        vertical-align: top;\n",
       "    }\n",
       "\n",
       "    .dataframe thead th {\n",
       "        text-align: right;\n",
       "    }\n",
       "</style>\n",
       "<table border=\"1\" class=\"dataframe\">\n",
       "  <thead>\n",
       "    <tr style=\"text-align: right;\">\n",
       "      <th></th>\n",
       "      <th>Respondent</th>\n",
       "      <th>MainBranch</th>\n",
       "      <th>Hobbyist</th>\n",
       "      <th>Age</th>\n",
       "      <th>Age1stCode</th>\n",
       "      <th>CompFreq</th>\n",
       "      <th>CompTotal</th>\n",
       "      <th>ConvertedComp</th>\n",
       "      <th>Country</th>\n",
       "      <th>CurrencyDesc</th>\n",
       "      <th>...</th>\n",
       "      <th>SurveyEase</th>\n",
       "      <th>SurveyLength</th>\n",
       "      <th>Trans</th>\n",
       "      <th>UndergradMajor</th>\n",
       "      <th>WebframeDesireNextYear</th>\n",
       "      <th>WebframeWorkedWith</th>\n",
       "      <th>WelcomeChange</th>\n",
       "      <th>WorkWeekHrs</th>\n",
       "      <th>YearsCode</th>\n",
       "      <th>YearsCodePro</th>\n",
       "    </tr>\n",
       "  </thead>\n",
       "  <tbody>\n",
       "    <tr>\n",
       "      <th>0</th>\n",
       "      <td>1</td>\n",
       "      <td>I am a developer by profession</td>\n",
       "      <td>Yes</td>\n",
       "      <td>NaN</td>\n",
       "      <td>13</td>\n",
       "      <td>Monthly</td>\n",
       "      <td>NaN</td>\n",
       "      <td>NaN</td>\n",
       "      <td>Germany</td>\n",
       "      <td>European Euro</td>\n",
       "      <td>...</td>\n",
       "      <td>Neither easy nor difficult</td>\n",
       "      <td>Appropriate in length</td>\n",
       "      <td>No</td>\n",
       "      <td>Computer science, computer engineering, or sof...</td>\n",
       "      <td>ASP.NET Core</td>\n",
       "      <td>ASP.NET;ASP.NET Core</td>\n",
       "      <td>Just as welcome now as I felt last year</td>\n",
       "      <td>50.0</td>\n",
       "      <td>36</td>\n",
       "      <td>27</td>\n",
       "    </tr>\n",
       "    <tr>\n",
       "      <th>1</th>\n",
       "      <td>2</td>\n",
       "      <td>I am a developer by profession</td>\n",
       "      <td>No</td>\n",
       "      <td>NaN</td>\n",
       "      <td>19</td>\n",
       "      <td>NaN</td>\n",
       "      <td>NaN</td>\n",
       "      <td>NaN</td>\n",
       "      <td>United Kingdom</td>\n",
       "      <td>Pound sterling</td>\n",
       "      <td>...</td>\n",
       "      <td>NaN</td>\n",
       "      <td>NaN</td>\n",
       "      <td>NaN</td>\n",
       "      <td>Computer science, computer engineering, or sof...</td>\n",
       "      <td>NaN</td>\n",
       "      <td>NaN</td>\n",
       "      <td>Somewhat more welcome now than last year</td>\n",
       "      <td>NaN</td>\n",
       "      <td>7</td>\n",
       "      <td>4</td>\n",
       "    </tr>\n",
       "    <tr>\n",
       "      <th>2</th>\n",
       "      <td>3</td>\n",
       "      <td>I code primarily as a hobby</td>\n",
       "      <td>Yes</td>\n",
       "      <td>NaN</td>\n",
       "      <td>15</td>\n",
       "      <td>NaN</td>\n",
       "      <td>NaN</td>\n",
       "      <td>NaN</td>\n",
       "      <td>Russian Federation</td>\n",
       "      <td>NaN</td>\n",
       "      <td>...</td>\n",
       "      <td>Neither easy nor difficult</td>\n",
       "      <td>Appropriate in length</td>\n",
       "      <td>NaN</td>\n",
       "      <td>NaN</td>\n",
       "      <td>NaN</td>\n",
       "      <td>NaN</td>\n",
       "      <td>Somewhat more welcome now than last year</td>\n",
       "      <td>NaN</td>\n",
       "      <td>4</td>\n",
       "      <td>NaN</td>\n",
       "    </tr>\n",
       "    <tr>\n",
       "      <th>3</th>\n",
       "      <td>4</td>\n",
       "      <td>I am a developer by profession</td>\n",
       "      <td>Yes</td>\n",
       "      <td>25.0</td>\n",
       "      <td>18</td>\n",
       "      <td>NaN</td>\n",
       "      <td>NaN</td>\n",
       "      <td>NaN</td>\n",
       "      <td>Albania</td>\n",
       "      <td>Albanian lek</td>\n",
       "      <td>...</td>\n",
       "      <td>NaN</td>\n",
       "      <td>NaN</td>\n",
       "      <td>No</td>\n",
       "      <td>Computer science, computer engineering, or sof...</td>\n",
       "      <td>NaN</td>\n",
       "      <td>NaN</td>\n",
       "      <td>Somewhat less welcome now than last year</td>\n",
       "      <td>40.0</td>\n",
       "      <td>7</td>\n",
       "      <td>4</td>\n",
       "    </tr>\n",
       "    <tr>\n",
       "      <th>4</th>\n",
       "      <td>5</td>\n",
       "      <td>I used to be a developer by profession, but no...</td>\n",
       "      <td>Yes</td>\n",
       "      <td>31.0</td>\n",
       "      <td>16</td>\n",
       "      <td>NaN</td>\n",
       "      <td>NaN</td>\n",
       "      <td>NaN</td>\n",
       "      <td>United States</td>\n",
       "      <td>NaN</td>\n",
       "      <td>...</td>\n",
       "      <td>Easy</td>\n",
       "      <td>Too short</td>\n",
       "      <td>No</td>\n",
       "      <td>Computer science, computer engineering, or sof...</td>\n",
       "      <td>Django;Ruby on Rails</td>\n",
       "      <td>Ruby on Rails</td>\n",
       "      <td>Just as welcome now as I felt last year</td>\n",
       "      <td>NaN</td>\n",
       "      <td>15</td>\n",
       "      <td>8</td>\n",
       "    </tr>\n",
       "    <tr>\n",
       "      <th>...</th>\n",
       "      <td>...</td>\n",
       "      <td>...</td>\n",
       "      <td>...</td>\n",
       "      <td>...</td>\n",
       "      <td>...</td>\n",
       "      <td>...</td>\n",
       "      <td>...</td>\n",
       "      <td>...</td>\n",
       "      <td>...</td>\n",
       "      <td>...</td>\n",
       "      <td>...</td>\n",
       "      <td>...</td>\n",
       "      <td>...</td>\n",
       "      <td>...</td>\n",
       "      <td>...</td>\n",
       "      <td>...</td>\n",
       "      <td>...</td>\n",
       "      <td>...</td>\n",
       "      <td>...</td>\n",
       "      <td>...</td>\n",
       "      <td>...</td>\n",
       "    </tr>\n",
       "    <tr>\n",
       "      <th>64456</th>\n",
       "      <td>64858</td>\n",
       "      <td>NaN</td>\n",
       "      <td>Yes</td>\n",
       "      <td>NaN</td>\n",
       "      <td>16</td>\n",
       "      <td>NaN</td>\n",
       "      <td>NaN</td>\n",
       "      <td>NaN</td>\n",
       "      <td>United States</td>\n",
       "      <td>NaN</td>\n",
       "      <td>...</td>\n",
       "      <td>NaN</td>\n",
       "      <td>NaN</td>\n",
       "      <td>NaN</td>\n",
       "      <td>Computer science, computer engineering, or sof...</td>\n",
       "      <td>NaN</td>\n",
       "      <td>NaN</td>\n",
       "      <td>NaN</td>\n",
       "      <td>NaN</td>\n",
       "      <td>10</td>\n",
       "      <td>Less than 1 year</td>\n",
       "    </tr>\n",
       "    <tr>\n",
       "      <th>64457</th>\n",
       "      <td>64867</td>\n",
       "      <td>NaN</td>\n",
       "      <td>Yes</td>\n",
       "      <td>NaN</td>\n",
       "      <td>NaN</td>\n",
       "      <td>NaN</td>\n",
       "      <td>NaN</td>\n",
       "      <td>NaN</td>\n",
       "      <td>Morocco</td>\n",
       "      <td>NaN</td>\n",
       "      <td>...</td>\n",
       "      <td>NaN</td>\n",
       "      <td>NaN</td>\n",
       "      <td>NaN</td>\n",
       "      <td>NaN</td>\n",
       "      <td>NaN</td>\n",
       "      <td>NaN</td>\n",
       "      <td>NaN</td>\n",
       "      <td>NaN</td>\n",
       "      <td>NaN</td>\n",
       "      <td>NaN</td>\n",
       "    </tr>\n",
       "    <tr>\n",
       "      <th>64458</th>\n",
       "      <td>64898</td>\n",
       "      <td>NaN</td>\n",
       "      <td>Yes</td>\n",
       "      <td>NaN</td>\n",
       "      <td>NaN</td>\n",
       "      <td>NaN</td>\n",
       "      <td>NaN</td>\n",
       "      <td>NaN</td>\n",
       "      <td>Viet Nam</td>\n",
       "      <td>NaN</td>\n",
       "      <td>...</td>\n",
       "      <td>NaN</td>\n",
       "      <td>NaN</td>\n",
       "      <td>NaN</td>\n",
       "      <td>NaN</td>\n",
       "      <td>NaN</td>\n",
       "      <td>NaN</td>\n",
       "      <td>NaN</td>\n",
       "      <td>NaN</td>\n",
       "      <td>NaN</td>\n",
       "      <td>NaN</td>\n",
       "    </tr>\n",
       "    <tr>\n",
       "      <th>64459</th>\n",
       "      <td>64925</td>\n",
       "      <td>NaN</td>\n",
       "      <td>Yes</td>\n",
       "      <td>NaN</td>\n",
       "      <td>NaN</td>\n",
       "      <td>NaN</td>\n",
       "      <td>NaN</td>\n",
       "      <td>NaN</td>\n",
       "      <td>Poland</td>\n",
       "      <td>NaN</td>\n",
       "      <td>...</td>\n",
       "      <td>NaN</td>\n",
       "      <td>NaN</td>\n",
       "      <td>NaN</td>\n",
       "      <td>NaN</td>\n",
       "      <td>Angular;Angular.js;React.js</td>\n",
       "      <td>NaN</td>\n",
       "      <td>NaN</td>\n",
       "      <td>NaN</td>\n",
       "      <td>NaN</td>\n",
       "      <td>NaN</td>\n",
       "    </tr>\n",
       "    <tr>\n",
       "      <th>64460</th>\n",
       "      <td>65112</td>\n",
       "      <td>NaN</td>\n",
       "      <td>Yes</td>\n",
       "      <td>NaN</td>\n",
       "      <td>NaN</td>\n",
       "      <td>NaN</td>\n",
       "      <td>NaN</td>\n",
       "      <td>NaN</td>\n",
       "      <td>Spain</td>\n",
       "      <td>NaN</td>\n",
       "      <td>...</td>\n",
       "      <td>NaN</td>\n",
       "      <td>NaN</td>\n",
       "      <td>NaN</td>\n",
       "      <td>Computer science, computer engineering, or sof...</td>\n",
       "      <td>ASP.NET Core;jQuery</td>\n",
       "      <td>Angular;Angular.js;ASP.NET Core;jQuery</td>\n",
       "      <td>NaN</td>\n",
       "      <td>NaN</td>\n",
       "      <td>NaN</td>\n",
       "      <td>NaN</td>\n",
       "    </tr>\n",
       "  </tbody>\n",
       "</table>\n",
       "<p>64461 rows × 61 columns</p>\n",
       "</div>"
      ],
      "text/plain": [
       "       Respondent                                         MainBranch Hobbyist  \\\n",
       "0               1                     I am a developer by profession      Yes   \n",
       "1               2                     I am a developer by profession       No   \n",
       "2               3                        I code primarily as a hobby      Yes   \n",
       "3               4                     I am a developer by profession      Yes   \n",
       "4               5  I used to be a developer by profession, but no...      Yes   \n",
       "...           ...                                                ...      ...   \n",
       "64456       64858                                                NaN      Yes   \n",
       "64457       64867                                                NaN      Yes   \n",
       "64458       64898                                                NaN      Yes   \n",
       "64459       64925                                                NaN      Yes   \n",
       "64460       65112                                                NaN      Yes   \n",
       "\n",
       "        Age Age1stCode CompFreq  CompTotal  ConvertedComp             Country  \\\n",
       "0       NaN         13  Monthly        NaN            NaN             Germany   \n",
       "1       NaN         19      NaN        NaN            NaN      United Kingdom   \n",
       "2       NaN         15      NaN        NaN            NaN  Russian Federation   \n",
       "3      25.0         18      NaN        NaN            NaN             Albania   \n",
       "4      31.0         16      NaN        NaN            NaN       United States   \n",
       "...     ...        ...      ...        ...            ...                 ...   \n",
       "64456   NaN         16      NaN        NaN            NaN       United States   \n",
       "64457   NaN        NaN      NaN        NaN            NaN             Morocco   \n",
       "64458   NaN        NaN      NaN        NaN            NaN            Viet Nam   \n",
       "64459   NaN        NaN      NaN        NaN            NaN              Poland   \n",
       "64460   NaN        NaN      NaN        NaN            NaN               Spain   \n",
       "\n",
       "         CurrencyDesc  ...                  SurveyEase           SurveyLength  \\\n",
       "0       European Euro  ...  Neither easy nor difficult  Appropriate in length   \n",
       "1      Pound sterling  ...                         NaN                    NaN   \n",
       "2                 NaN  ...  Neither easy nor difficult  Appropriate in length   \n",
       "3        Albanian lek  ...                         NaN                    NaN   \n",
       "4                 NaN  ...                        Easy              Too short   \n",
       "...               ...  ...                         ...                    ...   \n",
       "64456             NaN  ...                         NaN                    NaN   \n",
       "64457             NaN  ...                         NaN                    NaN   \n",
       "64458             NaN  ...                         NaN                    NaN   \n",
       "64459             NaN  ...                         NaN                    NaN   \n",
       "64460             NaN  ...                         NaN                    NaN   \n",
       "\n",
       "      Trans                                     UndergradMajor  \\\n",
       "0        No  Computer science, computer engineering, or sof...   \n",
       "1       NaN  Computer science, computer engineering, or sof...   \n",
       "2       NaN                                                NaN   \n",
       "3        No  Computer science, computer engineering, or sof...   \n",
       "4        No  Computer science, computer engineering, or sof...   \n",
       "...     ...                                                ...   \n",
       "64456   NaN  Computer science, computer engineering, or sof...   \n",
       "64457   NaN                                                NaN   \n",
       "64458   NaN                                                NaN   \n",
       "64459   NaN                                                NaN   \n",
       "64460   NaN  Computer science, computer engineering, or sof...   \n",
       "\n",
       "            WebframeDesireNextYear                      WebframeWorkedWith  \\\n",
       "0                     ASP.NET Core                    ASP.NET;ASP.NET Core   \n",
       "1                              NaN                                     NaN   \n",
       "2                              NaN                                     NaN   \n",
       "3                              NaN                                     NaN   \n",
       "4             Django;Ruby on Rails                           Ruby on Rails   \n",
       "...                            ...                                     ...   \n",
       "64456                          NaN                                     NaN   \n",
       "64457                          NaN                                     NaN   \n",
       "64458                          NaN                                     NaN   \n",
       "64459  Angular;Angular.js;React.js                                     NaN   \n",
       "64460          ASP.NET Core;jQuery  Angular;Angular.js;ASP.NET Core;jQuery   \n",
       "\n",
       "                                  WelcomeChange WorkWeekHrs YearsCode  \\\n",
       "0       Just as welcome now as I felt last year        50.0        36   \n",
       "1      Somewhat more welcome now than last year         NaN         7   \n",
       "2      Somewhat more welcome now than last year         NaN         4   \n",
       "3      Somewhat less welcome now than last year        40.0         7   \n",
       "4       Just as welcome now as I felt last year         NaN        15   \n",
       "...                                         ...         ...       ...   \n",
       "64456                                       NaN         NaN        10   \n",
       "64457                                       NaN         NaN       NaN   \n",
       "64458                                       NaN         NaN       NaN   \n",
       "64459                                       NaN         NaN       NaN   \n",
       "64460                                       NaN         NaN       NaN   \n",
       "\n",
       "           YearsCodePro  \n",
       "0                    27  \n",
       "1                     4  \n",
       "2                   NaN  \n",
       "3                     4  \n",
       "4                     8  \n",
       "...                 ...  \n",
       "64456  Less than 1 year  \n",
       "64457               NaN  \n",
       "64458               NaN  \n",
       "64459               NaN  \n",
       "64460               NaN  \n",
       "\n",
       "[64461 rows x 61 columns]"
      ]
     },
     "execution_count": 9,
     "metadata": {},
     "output_type": "execute_result"
    }
   ],
   "source": [
    "survey_raw_df"
   ]
  },
  {
   "cell_type": "markdown",
   "metadata": {},
   "source": [
    "The dataset contains over 64,000 responses to 60 questions (although many questions are optional). The responses have been anonymized to remove personally identifiable information, and each respondent has been assigned a randomized respondent ID.\n",
    "\n",
    "Let's view the list of columns in the data frame. "
   ]
  },
  {
   "cell_type": "code",
   "execution_count": 10,
   "metadata": {},
   "outputs": [
    {
     "data": {
      "text/plain": [
       "Index(['Respondent', 'MainBranch', 'Hobbyist', 'Age', 'Age1stCode', 'CompFreq',\n",
       "       'CompTotal', 'ConvertedComp', 'Country', 'CurrencyDesc',\n",
       "       'CurrencySymbol', 'DatabaseDesireNextYear', 'DatabaseWorkedWith',\n",
       "       'DevType', 'EdLevel', 'Employment', 'Ethnicity', 'Gender', 'JobFactors',\n",
       "       'JobSat', 'JobSeek', 'LanguageDesireNextYear', 'LanguageWorkedWith',\n",
       "       'MiscTechDesireNextYear', 'MiscTechWorkedWith',\n",
       "       'NEWCollabToolsDesireNextYear', 'NEWCollabToolsWorkedWith', 'NEWDevOps',\n",
       "       'NEWDevOpsImpt', 'NEWEdImpt', 'NEWJobHunt', 'NEWJobHuntResearch',\n",
       "       'NEWLearn', 'NEWOffTopic', 'NEWOnboardGood', 'NEWOtherComms',\n",
       "       'NEWOvertime', 'NEWPurchaseResearch', 'NEWPurpleLink', 'NEWSOSites',\n",
       "       'NEWStuck', 'OpSys', 'OrgSize', 'PlatformDesireNextYear',\n",
       "       'PlatformWorkedWith', 'PurchaseWhat', 'Sexuality', 'SOAccount',\n",
       "       'SOComm', 'SOPartFreq', 'SOVisitFreq', 'SurveyEase', 'SurveyLength',\n",
       "       'Trans', 'UndergradMajor', 'WebframeDesireNextYear',\n",
       "       'WebframeWorkedWith', 'WelcomeChange', 'WorkWeekHrs', 'YearsCode',\n",
       "       'YearsCodePro'],\n",
       "      dtype='object')"
      ]
     },
     "execution_count": 10,
     "metadata": {},
     "output_type": "execute_result"
    }
   ],
   "source": [
    "survey_raw_df.columns"
   ]
  },
  {
   "cell_type": "markdown",
   "metadata": {},
   "source": [
    "It appears that shortcodes for questions have been used as column names. \n",
    "\n",
    "We can refer to the schema file to see the full text of each question. The schema file contains only two columns: `Column` and `QuestionText`. We can load it as Pandas Series with `Column` as the index and the  `QuestionText` as the value."
   ]
  },
  {
   "cell_type": "code",
   "execution_count": 11,
   "metadata": {},
   "outputs": [],
   "source": [
    "schema_fname = 'stackoverflow-developer-survey-2020/survey_results_schema.csv'\n",
    "schema_raw = pd.read_csv(schema_fname, index_col='Column').QuestionText"
   ]
  },
  {
   "cell_type": "code",
   "execution_count": 12,
   "metadata": {},
   "outputs": [
    {
     "data": {
      "text/plain": [
       "Column\n",
       "Respondent            Randomized respondent ID number (not in order ...\n",
       "MainBranch            Which of the following options best describes ...\n",
       "Hobbyist                                        Do you code as a hobby?\n",
       "Age                   What is your age (in years)? If you prefer not...\n",
       "Age1stCode            At what age did you write your first line of c...\n",
       "                                            ...                        \n",
       "WebframeWorkedWith    Which web frameworks have you done extensive d...\n",
       "WelcomeChange         Compared to last year, how welcome do you feel...\n",
       "WorkWeekHrs           On average, how many hours per week do you wor...\n",
       "YearsCode             Including any education, how many years have y...\n",
       "YearsCodePro          NOT including education, how many years have y...\n",
       "Name: QuestionText, Length: 61, dtype: object"
      ]
     },
     "execution_count": 12,
     "metadata": {},
     "output_type": "execute_result"
    }
   ],
   "source": [
    "schema_raw"
   ]
  },
  {
   "cell_type": "markdown",
   "metadata": {},
   "source": [
    "We can now use `schema_raw` to retrieve the full question text for any column in `survey_raw_df`."
   ]
  },
  {
   "cell_type": "code",
   "execution_count": 13,
   "metadata": {},
   "outputs": [
    {
     "data": {
      "text/plain": [
       "'NOT including education, how many years have you coded professionally (as a part of your work)?'"
      ]
     },
     "execution_count": 13,
     "metadata": {},
     "output_type": "execute_result"
    }
   ],
   "source": [
    "schema_raw['YearsCodePro']"
   ]
  },
  {
   "cell_type": "markdown",
   "metadata": {},
   "source": [
    "We've now loaded the dataset. We're ready to move on to the next step of preprocessing & cleaning the data for our analysis."
   ]
  },
  {
   "cell_type": "markdown",
   "metadata": {},
   "source": [
    "### Save and upload your notebook\n",
    "\n",
    "Whether you're running this Jupyter notebook online or on your computer, it's essential to save your work from time to time. You can continue working on a saved notebook later or share it with friends and colleagues to let them execute your code. [Jovian](https://www.jovian.ai) offers an easy way of saving and sharing your Jupyter notebooks online."
   ]
  },
  {
   "cell_type": "code",
   "execution_count": null,
   "metadata": {},
   "outputs": [],
   "source": [
    "# Select a project name\n",
    "project='python-eda-stackoverflow-survey'"
   ]
  },
  {
   "cell_type": "code",
   "execution_count": null,
   "metadata": {},
   "outputs": [],
   "source": [
    "# Install the Jovian library\n",
    "!pip install jovian --upgrade --quiet"
   ]
  },
  {
   "cell_type": "code",
   "execution_count": null,
   "metadata": {},
   "outputs": [],
   "source": [
    "import jovian"
   ]
  },
  {
   "cell_type": "code",
   "execution_count": null,
   "metadata": {},
   "outputs": [],
   "source": [
    "jovian.commit(project=project)"
   ]
  },
  {
   "cell_type": "markdown",
   "metadata": {},
   "source": [
    "The first time you run `jovian.commit`, you'll be asked to provide an API Key to securely upload the notebook to your Jovian account. You can get the API key from your [Jovian profile page](https://jovian.ai) after logging in / signing up.\n",
    "\n",
    "\n",
    "`jovian.commit` uploads the notebook to your Jovian account, captures the Python environment, and creates a shareable link for your notebook, as shown above. You can use this link to share your work and let anyone (including you) run your notebooks and reproduce your work."
   ]
  },
  {
   "cell_type": "markdown",
   "metadata": {},
   "source": [
    "## Data Preparation & Cleaning\n",
    "\n",
    "While the survey responses contain a wealth of information, we'll limit our analysis to the following areas:\n",
    "\n",
    "- Demographics of the survey respondents and the global programming community\n",
    "- Distribution of programming skills, experience, and preferences\n",
    "- Employment-related information, preferences, and opinions\n",
    "\n",
    "Let's select a subset of columns with the relevant data for our analysis."
   ]
  },
  {
   "cell_type": "code",
   "execution_count": 14,
   "metadata": {},
   "outputs": [],
   "source": [
    "selected_columns = [\n",
    "    # Demographics\n",
    "    'Country',\n",
    "    'Age',\n",
    "    'Gender',\n",
    "    'EdLevel',\n",
    "    'UndergradMajor',\n",
    "    # Programming experience\n",
    "    'Hobbyist',\n",
    "    'Age1stCode',\n",
    "    'YearsCode',\n",
    "    'YearsCodePro',\n",
    "    'LanguageWorkedWith',\n",
    "    'LanguageDesireNextYear',\n",
    "    'NEWLearn',\n",
    "    'NEWStuck',\n",
    "    # Employment\n",
    "    'Employment',\n",
    "    'DevType',\n",
    "    'WorkWeekHrs',\n",
    "    'JobSat',\n",
    "    'JobFactors',\n",
    "    'NEWOvertime',\n",
    "    'NEWEdImpt'\n",
    "]"
   ]
  },
  {
   "cell_type": "code",
   "execution_count": 15,
   "metadata": {},
   "outputs": [
    {
     "data": {
      "text/plain": [
       "20"
      ]
     },
     "execution_count": 15,
     "metadata": {},
     "output_type": "execute_result"
    }
   ],
   "source": [
    "len(selected_columns)"
   ]
  },
  {
   "cell_type": "markdown",
   "metadata": {},
   "source": [
    "Let's extract a copy of the data from these columns into a new data frame `survey_df`. We can continue to modify further without affecting the original data frame."
   ]
  },
  {
   "cell_type": "code",
   "execution_count": 16,
   "metadata": {},
   "outputs": [],
   "source": [
    "survey_df = survey_raw_df[selected_columns].copy()"
   ]
  },
  {
   "cell_type": "code",
   "execution_count": 17,
   "metadata": {},
   "outputs": [],
   "source": [
    "schema = schema_raw[selected_columns]"
   ]
  },
  {
   "cell_type": "markdown",
   "metadata": {},
   "source": [
    "Let's view some basic information about the data frame."
   ]
  },
  {
   "cell_type": "code",
   "execution_count": 18,
   "metadata": {},
   "outputs": [
    {
     "data": {
      "text/plain": [
       "(64461, 20)"
      ]
     },
     "execution_count": 18,
     "metadata": {},
     "output_type": "execute_result"
    }
   ],
   "source": [
    "survey_df.shape"
   ]
  },
  {
   "cell_type": "code",
   "execution_count": 19,
   "metadata": {},
   "outputs": [
    {
     "name": "stdout",
     "output_type": "stream",
     "text": [
      "<class 'pandas.core.frame.DataFrame'>\n",
      "RangeIndex: 64461 entries, 0 to 64460\n",
      "Data columns (total 20 columns):\n",
      " #   Column                  Non-Null Count  Dtype  \n",
      "---  ------                  --------------  -----  \n",
      " 0   Country                 64072 non-null  object \n",
      " 1   Age                     45446 non-null  float64\n",
      " 2   Gender                  50557 non-null  object \n",
      " 3   EdLevel                 57431 non-null  object \n",
      " 4   UndergradMajor          50995 non-null  object \n",
      " 5   Hobbyist                64416 non-null  object \n",
      " 6   Age1stCode              57900 non-null  object \n",
      " 7   YearsCode               57684 non-null  object \n",
      " 8   YearsCodePro            46349 non-null  object \n",
      " 9   LanguageWorkedWith      57378 non-null  object \n",
      " 10  LanguageDesireNextYear  54113 non-null  object \n",
      " 11  NEWLearn                56156 non-null  object \n",
      " 12  NEWStuck                54983 non-null  object \n",
      " 13  Employment              63854 non-null  object \n",
      " 14  DevType                 49370 non-null  object \n",
      " 15  WorkWeekHrs             41151 non-null  float64\n",
      " 16  JobSat                  45194 non-null  object \n",
      " 17  JobFactors              49349 non-null  object \n",
      " 18  NEWOvertime             43231 non-null  object \n",
      " 19  NEWEdImpt               48465 non-null  object \n",
      "dtypes: float64(2), object(18)\n",
      "memory usage: 9.8+ MB\n"
     ]
    }
   ],
   "source": [
    "survey_df.info()"
   ]
  },
  {
   "cell_type": "markdown",
   "metadata": {},
   "source": [
    "Most columns have the data type `object`, either because they contain values of different types or contain empty values (`NaN`). It appears that every column contains some empty values since the Non-Null count for every column is lower than the total number of rows (64461). We'll need to deal with empty values and manually adjust the data type for each column on a case-by-case basis. \n",
    "\n",
    "Only two of the columns were detected as numeric columns (`Age` and `WorkWeekHrs`), even though a few other columns have mostly numeric values. To make our analysis easier, let's convert some other columns into numeric data types while ignoring any non-numeric value. The non-numeric are converted to `NaN`."
   ]
  },
  {
   "cell_type": "code",
   "execution_count": 22,
   "metadata": {},
   "outputs": [
    {
     "data": {
      "text/plain": [
       "0         13\n",
       "1         19\n",
       "2         15\n",
       "3         18\n",
       "4         16\n",
       "        ... \n",
       "64456     16\n",
       "64457    NaN\n",
       "64458    NaN\n",
       "64459    NaN\n",
       "64460    NaN\n",
       "Name: Age1stCode, Length: 64461, dtype: object"
      ]
     },
     "execution_count": 22,
     "metadata": {},
     "output_type": "execute_result"
    }
   ],
   "source": [
    "survey_df['Age1stCode']"
   ]
  },
  {
   "cell_type": "code",
   "execution_count": 24,
   "metadata": {},
   "outputs": [],
   "source": [
    "survey_df['Age1stCode'] = pd.to_numeric(survey_df.Age1stCode, errors='coerce')\n",
    "survey_df['YearsCode'] = pd.to_numeric(survey_df.YearsCode, errors='coerce')\n",
    "survey_df['YearsCodePro'] = pd.to_numeric(survey_df.YearsCodePro, errors='coerce')"
   ]
  },
  {
   "cell_type": "markdown",
   "metadata": {},
   "source": [
    "Let's now view some basic statistics about numeric columns."
   ]
  },
  {
   "cell_type": "code",
   "execution_count": 25,
   "metadata": {},
   "outputs": [
    {
     "data": {
      "text/html": [
       "<div>\n",
       "<style scoped>\n",
       "    .dataframe tbody tr th:only-of-type {\n",
       "        vertical-align: middle;\n",
       "    }\n",
       "\n",
       "    .dataframe tbody tr th {\n",
       "        vertical-align: top;\n",
       "    }\n",
       "\n",
       "    .dataframe thead th {\n",
       "        text-align: right;\n",
       "    }\n",
       "</style>\n",
       "<table border=\"1\" class=\"dataframe\">\n",
       "  <thead>\n",
       "    <tr style=\"text-align: right;\">\n",
       "      <th></th>\n",
       "      <th>Age</th>\n",
       "      <th>Age1stCode</th>\n",
       "      <th>YearsCode</th>\n",
       "      <th>YearsCodePro</th>\n",
       "      <th>WorkWeekHrs</th>\n",
       "    </tr>\n",
       "  </thead>\n",
       "  <tbody>\n",
       "    <tr>\n",
       "      <th>count</th>\n",
       "      <td>45446.000000</td>\n",
       "      <td>57473.000000</td>\n",
       "      <td>56784.000000</td>\n",
       "      <td>44133.000000</td>\n",
       "      <td>41151.000000</td>\n",
       "    </tr>\n",
       "    <tr>\n",
       "      <th>mean</th>\n",
       "      <td>30.834111</td>\n",
       "      <td>15.476572</td>\n",
       "      <td>12.782051</td>\n",
       "      <td>8.869667</td>\n",
       "      <td>40.782174</td>\n",
       "    </tr>\n",
       "    <tr>\n",
       "      <th>std</th>\n",
       "      <td>9.585392</td>\n",
       "      <td>5.114081</td>\n",
       "      <td>9.490657</td>\n",
       "      <td>7.759961</td>\n",
       "      <td>17.816383</td>\n",
       "    </tr>\n",
       "    <tr>\n",
       "      <th>min</th>\n",
       "      <td>1.000000</td>\n",
       "      <td>5.000000</td>\n",
       "      <td>1.000000</td>\n",
       "      <td>1.000000</td>\n",
       "      <td>1.000000</td>\n",
       "    </tr>\n",
       "    <tr>\n",
       "      <th>25%</th>\n",
       "      <td>24.000000</td>\n",
       "      <td>12.000000</td>\n",
       "      <td>6.000000</td>\n",
       "      <td>3.000000</td>\n",
       "      <td>40.000000</td>\n",
       "    </tr>\n",
       "    <tr>\n",
       "      <th>50%</th>\n",
       "      <td>29.000000</td>\n",
       "      <td>15.000000</td>\n",
       "      <td>10.000000</td>\n",
       "      <td>6.000000</td>\n",
       "      <td>40.000000</td>\n",
       "    </tr>\n",
       "    <tr>\n",
       "      <th>75%</th>\n",
       "      <td>35.000000</td>\n",
       "      <td>18.000000</td>\n",
       "      <td>17.000000</td>\n",
       "      <td>12.000000</td>\n",
       "      <td>44.000000</td>\n",
       "    </tr>\n",
       "    <tr>\n",
       "      <th>max</th>\n",
       "      <td>279.000000</td>\n",
       "      <td>85.000000</td>\n",
       "      <td>50.000000</td>\n",
       "      <td>50.000000</td>\n",
       "      <td>475.000000</td>\n",
       "    </tr>\n",
       "  </tbody>\n",
       "</table>\n",
       "</div>"
      ],
      "text/plain": [
       "                Age    Age1stCode     YearsCode  YearsCodePro   WorkWeekHrs\n",
       "count  45446.000000  57473.000000  56784.000000  44133.000000  41151.000000\n",
       "mean      30.834111     15.476572     12.782051      8.869667     40.782174\n",
       "std        9.585392      5.114081      9.490657      7.759961     17.816383\n",
       "min        1.000000      5.000000      1.000000      1.000000      1.000000\n",
       "25%       24.000000     12.000000      6.000000      3.000000     40.000000\n",
       "50%       29.000000     15.000000     10.000000      6.000000     40.000000\n",
       "75%       35.000000     18.000000     17.000000     12.000000     44.000000\n",
       "max      279.000000     85.000000     50.000000     50.000000    475.000000"
      ]
     },
     "execution_count": 25,
     "metadata": {},
     "output_type": "execute_result"
    }
   ],
   "source": [
    "survey_df.describe()"
   ]
  },
  {
   "cell_type": "markdown",
   "metadata": {},
   "source": [
    "There seems to be a problem with the age column, as the minimum value is 1 and the maximum is 279. This is a common issue with surveys: responses may contain invalid values due to accidental or intentional errors while responding. A simple fix would be to ignore the rows where the age is higher than 100 years or lower than 10 years as invalid survey responses. We can do this using the `.drop` method, [as explained here](https://www.geeksforgeeks.org/drop-rows-from-the-dataframe-based-on-certain-condition-applied-on-a-column/)."
   ]
  },
  {
   "cell_type": "code",
   "execution_count": 26,
   "metadata": {},
   "outputs": [],
   "source": [
    "survey_df.drop(survey_df[survey_df.Age < 10].index, inplace=True)\n",
    "survey_df.drop(survey_df[survey_df.Age > 100].index, inplace=True)"
   ]
  },
  {
   "cell_type": "markdown",
   "metadata": {},
   "source": [
    "The same holds for `WorkWeekHrs`. Let's ignore entries where the value for the column is higher than 140 hours. (~20 hours per day)."
   ]
  },
  {
   "cell_type": "code",
   "execution_count": 27,
   "metadata": {},
   "outputs": [],
   "source": [
    "survey_df.drop(survey_df[survey_df.WorkWeekHrs > 140].index, inplace=True)"
   ]
  },
  {
   "cell_type": "markdown",
   "metadata": {},
   "source": [
    "The gender column also allows for picking multiple options. We'll remove values containing more than one option to simplify our analysis."
   ]
  },
  {
   "cell_type": "code",
   "execution_count": 28,
   "metadata": {},
   "outputs": [
    {
     "data": {
      "text/plain": [
       "Gender\n",
       "Man                                                            45895\n",
       "Woman                                                           3835\n",
       "Non-binary, genderqueer, or gender non-conforming                385\n",
       "Man;Non-binary, genderqueer, or gender non-conforming            121\n",
       "Woman;Non-binary, genderqueer, or gender non-conforming           92\n",
       "Woman;Man                                                         73\n",
       "Woman;Man;Non-binary, genderqueer, or gender non-conforming       25\n",
       "Name: count, dtype: int64"
      ]
     },
     "execution_count": 28,
     "metadata": {},
     "output_type": "execute_result"
    }
   ],
   "source": [
    "survey_df['Gender'].value_counts()"
   ]
  },
  {
   "cell_type": "code",
   "execution_count": 29,
   "metadata": {},
   "outputs": [],
   "source": [
    "import numpy as np"
   ]
  },
  {
   "cell_type": "code",
   "execution_count": 30,
   "metadata": {},
   "outputs": [],
   "source": [
    "survey_df.where(~(survey_df.Gender.str.contains(';', na=False)), np.nan, inplace=True)"
   ]
  },
  {
   "cell_type": "markdown",
   "metadata": {},
   "source": [
    "We've now cleaned up and prepared the dataset for analysis. Let's take a look at a sample of rows from the data frame."
   ]
  },
  {
   "cell_type": "code",
   "execution_count": 31,
   "metadata": {},
   "outputs": [
    {
     "data": {
      "text/html": [
       "<div>\n",
       "<style scoped>\n",
       "    .dataframe tbody tr th:only-of-type {\n",
       "        vertical-align: middle;\n",
       "    }\n",
       "\n",
       "    .dataframe tbody tr th {\n",
       "        vertical-align: top;\n",
       "    }\n",
       "\n",
       "    .dataframe thead th {\n",
       "        text-align: right;\n",
       "    }\n",
       "</style>\n",
       "<table border=\"1\" class=\"dataframe\">\n",
       "  <thead>\n",
       "    <tr style=\"text-align: right;\">\n",
       "      <th></th>\n",
       "      <th>Country</th>\n",
       "      <th>Age</th>\n",
       "      <th>Gender</th>\n",
       "      <th>EdLevel</th>\n",
       "      <th>UndergradMajor</th>\n",
       "      <th>Hobbyist</th>\n",
       "      <th>Age1stCode</th>\n",
       "      <th>YearsCode</th>\n",
       "      <th>YearsCodePro</th>\n",
       "      <th>LanguageWorkedWith</th>\n",
       "      <th>LanguageDesireNextYear</th>\n",
       "      <th>NEWLearn</th>\n",
       "      <th>NEWStuck</th>\n",
       "      <th>Employment</th>\n",
       "      <th>DevType</th>\n",
       "      <th>WorkWeekHrs</th>\n",
       "      <th>JobSat</th>\n",
       "      <th>JobFactors</th>\n",
       "      <th>NEWOvertime</th>\n",
       "      <th>NEWEdImpt</th>\n",
       "    </tr>\n",
       "  </thead>\n",
       "  <tbody>\n",
       "    <tr>\n",
       "      <th>61175</th>\n",
       "      <td>Russian Federation</td>\n",
       "      <td>26.0</td>\n",
       "      <td>Man</td>\n",
       "      <td>Bachelor’s degree (B.A., B.S., B.Eng., etc.)</td>\n",
       "      <td>Computer science, computer engineering, or sof...</td>\n",
       "      <td>Yes</td>\n",
       "      <td>18.0</td>\n",
       "      <td>5.0</td>\n",
       "      <td>2.0</td>\n",
       "      <td>HTML/CSS;JavaScript;Python;SQL</td>\n",
       "      <td>Go;Python;SQL</td>\n",
       "      <td>Once a year</td>\n",
       "      <td>Call a coworker or friend;Visit Stack Overflow...</td>\n",
       "      <td>Employed full-time</td>\n",
       "      <td>Developer, full-stack</td>\n",
       "      <td>40.0</td>\n",
       "      <td>Neither satisfied nor dissatisfied</td>\n",
       "      <td>NaN</td>\n",
       "      <td>Sometimes: 1-2 days per month but less than we...</td>\n",
       "      <td>Somewhat important</td>\n",
       "    </tr>\n",
       "    <tr>\n",
       "      <th>18336</th>\n",
       "      <td>Saint Vincent and the Grenadines</td>\n",
       "      <td>39.0</td>\n",
       "      <td>Man</td>\n",
       "      <td>Some college/university study without earning ...</td>\n",
       "      <td>Another engineering discipline (such as civil,...</td>\n",
       "      <td>Yes</td>\n",
       "      <td>16.0</td>\n",
       "      <td>5.0</td>\n",
       "      <td>NaN</td>\n",
       "      <td>NaN</td>\n",
       "      <td>NaN</td>\n",
       "      <td>Every few months</td>\n",
       "      <td>Watch help / tutorial videos</td>\n",
       "      <td>Employed full-time</td>\n",
       "      <td>NaN</td>\n",
       "      <td>NaN</td>\n",
       "      <td>NaN</td>\n",
       "      <td>Flex time or a flexible schedule;Remote work o...</td>\n",
       "      <td>NaN</td>\n",
       "      <td>NaN</td>\n",
       "    </tr>\n",
       "    <tr>\n",
       "      <th>20856</th>\n",
       "      <td>Pakistan</td>\n",
       "      <td>21.0</td>\n",
       "      <td>Man</td>\n",
       "      <td>Bachelor’s degree (B.A., B.S., B.Eng., etc.)</td>\n",
       "      <td>Computer science, computer engineering, or sof...</td>\n",
       "      <td>No</td>\n",
       "      <td>18.0</td>\n",
       "      <td>3.0</td>\n",
       "      <td>NaN</td>\n",
       "      <td>Assembly;C;C#;C++;HTML/CSS;Java;JavaScript;PHP...</td>\n",
       "      <td>Java;Kotlin;Objective-C;R;Swift</td>\n",
       "      <td>Every few months</td>\n",
       "      <td>NaN</td>\n",
       "      <td>Student</td>\n",
       "      <td>NaN</td>\n",
       "      <td>NaN</td>\n",
       "      <td>NaN</td>\n",
       "      <td>Flex time or a flexible schedule;Languages, fr...</td>\n",
       "      <td>NaN</td>\n",
       "      <td>NaN</td>\n",
       "    </tr>\n",
       "    <tr>\n",
       "      <th>712</th>\n",
       "      <td>United Kingdom</td>\n",
       "      <td>28.0</td>\n",
       "      <td>Man</td>\n",
       "      <td>Bachelor’s degree (B.A., B.S., B.Eng., etc.)</td>\n",
       "      <td>Computer science, computer engineering, or sof...</td>\n",
       "      <td>Yes</td>\n",
       "      <td>14.0</td>\n",
       "      <td>15.0</td>\n",
       "      <td>7.0</td>\n",
       "      <td>Java;Kotlin</td>\n",
       "      <td>Haskell;Kotlin</td>\n",
       "      <td>Once every few years</td>\n",
       "      <td>Visit Stack Overflow;Watch help / tutorial vid...</td>\n",
       "      <td>Employed full-time</td>\n",
       "      <td>Developer, mobile</td>\n",
       "      <td>35.0</td>\n",
       "      <td>Very satisfied</td>\n",
       "      <td>Languages, frameworks, and other technologies ...</td>\n",
       "      <td>Never</td>\n",
       "      <td>Very important</td>\n",
       "    </tr>\n",
       "    <tr>\n",
       "      <th>59591</th>\n",
       "      <td>United States</td>\n",
       "      <td>18.0</td>\n",
       "      <td>Man</td>\n",
       "      <td>Some college/university study without earning ...</td>\n",
       "      <td>Computer science, computer engineering, or sof...</td>\n",
       "      <td>Yes</td>\n",
       "      <td>15.0</td>\n",
       "      <td>3.0</td>\n",
       "      <td>NaN</td>\n",
       "      <td>C;C#;C++;Go;HTML/CSS;JavaScript;Python;Rust</td>\n",
       "      <td>Assembly;Go</td>\n",
       "      <td>Every few months</td>\n",
       "      <td>Visit Stack Overflow;Do other work and come ba...</td>\n",
       "      <td>Student</td>\n",
       "      <td>NaN</td>\n",
       "      <td>NaN</td>\n",
       "      <td>NaN</td>\n",
       "      <td>Languages, frameworks, and other technologies ...</td>\n",
       "      <td>NaN</td>\n",
       "      <td>NaN</td>\n",
       "    </tr>\n",
       "    <tr>\n",
       "      <th>31812</th>\n",
       "      <td>Romania</td>\n",
       "      <td>36.0</td>\n",
       "      <td>Man</td>\n",
       "      <td>Other doctoral degree (Ph.D., Ed.D., etc.)</td>\n",
       "      <td>Another engineering discipline (such as civil,...</td>\n",
       "      <td>Yes</td>\n",
       "      <td>14.0</td>\n",
       "      <td>22.0</td>\n",
       "      <td>13.0</td>\n",
       "      <td>C#;C++;Python</td>\n",
       "      <td>C#;C++;Python</td>\n",
       "      <td>Once a year</td>\n",
       "      <td>Play games;Visit Stack Overflow;Go for a walk ...</td>\n",
       "      <td>Employed full-time</td>\n",
       "      <td>Academic researcher</td>\n",
       "      <td>24.0</td>\n",
       "      <td>Very satisfied</td>\n",
       "      <td>Flex time or a flexible schedule;Financial per...</td>\n",
       "      <td>Never</td>\n",
       "      <td>Critically important</td>\n",
       "    </tr>\n",
       "    <tr>\n",
       "      <th>50242</th>\n",
       "      <td>Australia</td>\n",
       "      <td>32.0</td>\n",
       "      <td>Man</td>\n",
       "      <td>Other doctoral degree (Ph.D., Ed.D., etc.)</td>\n",
       "      <td>Mathematics or statistics</td>\n",
       "      <td>Yes</td>\n",
       "      <td>14.0</td>\n",
       "      <td>18.0</td>\n",
       "      <td>4.0</td>\n",
       "      <td>C#;HTML/CSS;JavaScript;R;SQL;TypeScript;VBA</td>\n",
       "      <td>C#;HTML/CSS;JavaScript;SQL;TypeScript</td>\n",
       "      <td>Once a year</td>\n",
       "      <td>Call a coworker or friend;Go for a walk or oth...</td>\n",
       "      <td>Employed full-time</td>\n",
       "      <td>Data or business analyst;Developer, back-end;D...</td>\n",
       "      <td>40.0</td>\n",
       "      <td>Very satisfied</td>\n",
       "      <td>Flex time or a flexible schedule;Remote work o...</td>\n",
       "      <td>Occasionally: 1-2 days per quarter but less th...</td>\n",
       "      <td>Very important</td>\n",
       "    </tr>\n",
       "    <tr>\n",
       "      <th>61856</th>\n",
       "      <td>India</td>\n",
       "      <td>NaN</td>\n",
       "      <td>NaN</td>\n",
       "      <td>NaN</td>\n",
       "      <td>NaN</td>\n",
       "      <td>No</td>\n",
       "      <td>NaN</td>\n",
       "      <td>NaN</td>\n",
       "      <td>NaN</td>\n",
       "      <td>Java;JavaScript;SQL</td>\n",
       "      <td>Scala;Swift</td>\n",
       "      <td>Once a year</td>\n",
       "      <td>Call a coworker or friend;Visit Stack Overflow...</td>\n",
       "      <td>Employed full-time</td>\n",
       "      <td>NaN</td>\n",
       "      <td>NaN</td>\n",
       "      <td>NaN</td>\n",
       "      <td>NaN</td>\n",
       "      <td>NaN</td>\n",
       "      <td>NaN</td>\n",
       "    </tr>\n",
       "    <tr>\n",
       "      <th>40418</th>\n",
       "      <td>India</td>\n",
       "      <td>26.0</td>\n",
       "      <td>Man</td>\n",
       "      <td>Bachelor’s degree (B.A., B.S., B.Eng., etc.)</td>\n",
       "      <td>Another engineering discipline (such as civil,...</td>\n",
       "      <td>Yes</td>\n",
       "      <td>17.0</td>\n",
       "      <td>8.0</td>\n",
       "      <td>5.0</td>\n",
       "      <td>C;C++;HTML/CSS;Java;JavaScript</td>\n",
       "      <td>Go;HTML/CSS;Java;JavaScript;Kotlin;Python;Type...</td>\n",
       "      <td>Every few months</td>\n",
       "      <td>Play games;Visit Stack Overflow;Go for a walk ...</td>\n",
       "      <td>Employed full-time</td>\n",
       "      <td>Designer;Developer, back-end;Developer, front-...</td>\n",
       "      <td>60.0</td>\n",
       "      <td>Very satisfied</td>\n",
       "      <td>Languages, frameworks, and other technologies ...</td>\n",
       "      <td>Often: 1-2 days per week or more</td>\n",
       "      <td>Somewhat important</td>\n",
       "    </tr>\n",
       "    <tr>\n",
       "      <th>3432</th>\n",
       "      <td>Netherlands</td>\n",
       "      <td>50.0</td>\n",
       "      <td>Man</td>\n",
       "      <td>Master’s degree (M.A., M.S., M.Eng., MBA, etc.)</td>\n",
       "      <td>Computer science, computer engineering, or sof...</td>\n",
       "      <td>Yes</td>\n",
       "      <td>13.0</td>\n",
       "      <td>37.0</td>\n",
       "      <td>24.0</td>\n",
       "      <td>C;C++;JavaScript;Perl;Python;SQL</td>\n",
       "      <td>C++;JavaScript;Python;SQL</td>\n",
       "      <td>Once every few years</td>\n",
       "      <td>Go for a walk or other physical activity;Do ot...</td>\n",
       "      <td>Employed full-time</td>\n",
       "      <td>Developer, back-end</td>\n",
       "      <td>42.0</td>\n",
       "      <td>Very satisfied</td>\n",
       "      <td>Languages, frameworks, and other technologies ...</td>\n",
       "      <td>Occasionally: 1-2 days per quarter but less th...</td>\n",
       "      <td>Very important</td>\n",
       "    </tr>\n",
       "  </tbody>\n",
       "</table>\n",
       "</div>"
      ],
      "text/plain": [
       "                                Country   Age Gender  \\\n",
       "61175                Russian Federation  26.0    Man   \n",
       "18336  Saint Vincent and the Grenadines  39.0    Man   \n",
       "20856                          Pakistan  21.0    Man   \n",
       "712                      United Kingdom  28.0    Man   \n",
       "59591                     United States  18.0    Man   \n",
       "31812                           Romania  36.0    Man   \n",
       "50242                         Australia  32.0    Man   \n",
       "61856                             India   NaN    NaN   \n",
       "40418                             India  26.0    Man   \n",
       "3432                        Netherlands  50.0    Man   \n",
       "\n",
       "                                                 EdLevel  \\\n",
       "61175       Bachelor’s degree (B.A., B.S., B.Eng., etc.)   \n",
       "18336  Some college/university study without earning ...   \n",
       "20856       Bachelor’s degree (B.A., B.S., B.Eng., etc.)   \n",
       "712         Bachelor’s degree (B.A., B.S., B.Eng., etc.)   \n",
       "59591  Some college/university study without earning ...   \n",
       "31812         Other doctoral degree (Ph.D., Ed.D., etc.)   \n",
       "50242         Other doctoral degree (Ph.D., Ed.D., etc.)   \n",
       "61856                                                NaN   \n",
       "40418       Bachelor’s degree (B.A., B.S., B.Eng., etc.)   \n",
       "3432     Master’s degree (M.A., M.S., M.Eng., MBA, etc.)   \n",
       "\n",
       "                                          UndergradMajor Hobbyist  Age1stCode  \\\n",
       "61175  Computer science, computer engineering, or sof...      Yes        18.0   \n",
       "18336  Another engineering discipline (such as civil,...      Yes        16.0   \n",
       "20856  Computer science, computer engineering, or sof...       No        18.0   \n",
       "712    Computer science, computer engineering, or sof...      Yes        14.0   \n",
       "59591  Computer science, computer engineering, or sof...      Yes        15.0   \n",
       "31812  Another engineering discipline (such as civil,...      Yes        14.0   \n",
       "50242                          Mathematics or statistics      Yes        14.0   \n",
       "61856                                                NaN       No         NaN   \n",
       "40418  Another engineering discipline (such as civil,...      Yes        17.0   \n",
       "3432   Computer science, computer engineering, or sof...      Yes        13.0   \n",
       "\n",
       "       YearsCode  YearsCodePro  \\\n",
       "61175        5.0           2.0   \n",
       "18336        5.0           NaN   \n",
       "20856        3.0           NaN   \n",
       "712         15.0           7.0   \n",
       "59591        3.0           NaN   \n",
       "31812       22.0          13.0   \n",
       "50242       18.0           4.0   \n",
       "61856        NaN           NaN   \n",
       "40418        8.0           5.0   \n",
       "3432        37.0          24.0   \n",
       "\n",
       "                                      LanguageWorkedWith  \\\n",
       "61175                     HTML/CSS;JavaScript;Python;SQL   \n",
       "18336                                                NaN   \n",
       "20856  Assembly;C;C#;C++;HTML/CSS;Java;JavaScript;PHP...   \n",
       "712                                          Java;Kotlin   \n",
       "59591        C;C#;C++;Go;HTML/CSS;JavaScript;Python;Rust   \n",
       "31812                                      C#;C++;Python   \n",
       "50242        C#;HTML/CSS;JavaScript;R;SQL;TypeScript;VBA   \n",
       "61856                                Java;JavaScript;SQL   \n",
       "40418                     C;C++;HTML/CSS;Java;JavaScript   \n",
       "3432                    C;C++;JavaScript;Perl;Python;SQL   \n",
       "\n",
       "                                  LanguageDesireNextYear  \\\n",
       "61175                                      Go;Python;SQL   \n",
       "18336                                                NaN   \n",
       "20856                    Java;Kotlin;Objective-C;R;Swift   \n",
       "712                                       Haskell;Kotlin   \n",
       "59591                                        Assembly;Go   \n",
       "31812                                      C#;C++;Python   \n",
       "50242              C#;HTML/CSS;JavaScript;SQL;TypeScript   \n",
       "61856                                        Scala;Swift   \n",
       "40418  Go;HTML/CSS;Java;JavaScript;Kotlin;Python;Type...   \n",
       "3432                           C++;JavaScript;Python;SQL   \n",
       "\n",
       "                   NEWLearn  \\\n",
       "61175           Once a year   \n",
       "18336      Every few months   \n",
       "20856      Every few months   \n",
       "712    Once every few years   \n",
       "59591      Every few months   \n",
       "31812           Once a year   \n",
       "50242           Once a year   \n",
       "61856           Once a year   \n",
       "40418      Every few months   \n",
       "3432   Once every few years   \n",
       "\n",
       "                                                NEWStuck          Employment  \\\n",
       "61175  Call a coworker or friend;Visit Stack Overflow...  Employed full-time   \n",
       "18336                       Watch help / tutorial videos  Employed full-time   \n",
       "20856                                                NaN             Student   \n",
       "712    Visit Stack Overflow;Watch help / tutorial vid...  Employed full-time   \n",
       "59591  Visit Stack Overflow;Do other work and come ba...             Student   \n",
       "31812  Play games;Visit Stack Overflow;Go for a walk ...  Employed full-time   \n",
       "50242  Call a coworker or friend;Go for a walk or oth...  Employed full-time   \n",
       "61856  Call a coworker or friend;Visit Stack Overflow...  Employed full-time   \n",
       "40418  Play games;Visit Stack Overflow;Go for a walk ...  Employed full-time   \n",
       "3432   Go for a walk or other physical activity;Do ot...  Employed full-time   \n",
       "\n",
       "                                                 DevType  WorkWeekHrs  \\\n",
       "61175                              Developer, full-stack         40.0   \n",
       "18336                                                NaN          NaN   \n",
       "20856                                                NaN          NaN   \n",
       "712                                    Developer, mobile         35.0   \n",
       "59591                                                NaN          NaN   \n",
       "31812                                Academic researcher         24.0   \n",
       "50242  Data or business analyst;Developer, back-end;D...         40.0   \n",
       "61856                                                NaN          NaN   \n",
       "40418  Designer;Developer, back-end;Developer, front-...         60.0   \n",
       "3432                                 Developer, back-end         42.0   \n",
       "\n",
       "                                   JobSat  \\\n",
       "61175  Neither satisfied nor dissatisfied   \n",
       "18336                                 NaN   \n",
       "20856                                 NaN   \n",
       "712                        Very satisfied   \n",
       "59591                                 NaN   \n",
       "31812                      Very satisfied   \n",
       "50242                      Very satisfied   \n",
       "61856                                 NaN   \n",
       "40418                      Very satisfied   \n",
       "3432                       Very satisfied   \n",
       "\n",
       "                                              JobFactors  \\\n",
       "61175                                                NaN   \n",
       "18336  Flex time or a flexible schedule;Remote work o...   \n",
       "20856  Flex time or a flexible schedule;Languages, fr...   \n",
       "712    Languages, frameworks, and other technologies ...   \n",
       "59591  Languages, frameworks, and other technologies ...   \n",
       "31812  Flex time or a flexible schedule;Financial per...   \n",
       "50242  Flex time or a flexible schedule;Remote work o...   \n",
       "61856                                                NaN   \n",
       "40418  Languages, frameworks, and other technologies ...   \n",
       "3432   Languages, frameworks, and other technologies ...   \n",
       "\n",
       "                                             NEWOvertime             NEWEdImpt  \n",
       "61175  Sometimes: 1-2 days per month but less than we...    Somewhat important  \n",
       "18336                                                NaN                   NaN  \n",
       "20856                                                NaN                   NaN  \n",
       "712                                                Never        Very important  \n",
       "59591                                                NaN                   NaN  \n",
       "31812                                              Never  Critically important  \n",
       "50242  Occasionally: 1-2 days per quarter but less th...        Very important  \n",
       "61856                                                NaN                   NaN  \n",
       "40418                   Often: 1-2 days per week or more    Somewhat important  \n",
       "3432   Occasionally: 1-2 days per quarter but less th...        Very important  "
      ]
     },
     "execution_count": 31,
     "metadata": {},
     "output_type": "execute_result"
    }
   ],
   "source": [
    "survey_df.sample(10)"
   ]
  },
  {
   "cell_type": "markdown",
   "metadata": {},
   "source": [
    "Let's save and commit our work before continuing."
   ]
  },
  {
   "cell_type": "code",
   "execution_count": null,
   "metadata": {},
   "outputs": [],
   "source": [
    "import jovian"
   ]
  },
  {
   "cell_type": "code",
   "execution_count": null,
   "metadata": {},
   "outputs": [],
   "source": [
    "jovian.commit()"
   ]
  },
  {
   "cell_type": "markdown",
   "metadata": {},
   "source": [
    "## Exploratory Analysis and Visualization\n",
    "\n",
    "Before we ask questions about the survey responses, it would help to understand the respondents' demographics, i.e., country, age, gender, education level, employment level, etc. It's essential to explore these variables to understand how representative the survey is of the worldwide programming community. A survey of this scale generally tends to have some [selection bias](https://en.wikipedia.org/wiki/Selection_bias).\n",
    "\n",
    "Let's begin by importing `matplotlib.pyplot` and `seaborn`."
   ]
  },
  {
   "cell_type": "code",
   "execution_count": 32,
   "metadata": {},
   "outputs": [],
   "source": [
    "import seaborn as sns\n",
    "import matplotlib\n",
    "import matplotlib.pyplot as plt\n",
    "%matplotlib inline\n",
    "\n",
    "sns.set_style('darkgrid')\n",
    "matplotlib.rcParams['font.size'] = 14\n",
    "matplotlib.rcParams['figure.figsize'] = (9, 5)\n",
    "matplotlib.rcParams['figure.facecolor'] = '#00000000'"
   ]
  },
  {
   "cell_type": "markdown",
   "metadata": {},
   "source": [
    "### Country\n",
    "\n",
    "Let's look at the number of countries from which there are responses in the survey and plot the ten countries with the highest number of responses."
   ]
  },
  {
   "cell_type": "code",
   "execution_count": 33,
   "metadata": {},
   "outputs": [
    {
     "data": {
      "text/plain": [
       "'Where do you live?'"
      ]
     },
     "execution_count": 33,
     "metadata": {},
     "output_type": "execute_result"
    }
   ],
   "source": [
    "schema.Country"
   ]
  },
  {
   "cell_type": "code",
   "execution_count": 34,
   "metadata": {},
   "outputs": [
    {
     "data": {
      "text/plain": [
       "183"
      ]
     },
     "execution_count": 34,
     "metadata": {},
     "output_type": "execute_result"
    }
   ],
   "source": [
    "survey_df.Country.nunique()"
   ]
  },
  {
   "cell_type": "markdown",
   "metadata": {},
   "source": [
    "We can identify the countries with the highest number of respondents using the `value_counts` method."
   ]
  },
  {
   "cell_type": "code",
   "execution_count": 35,
   "metadata": {},
   "outputs": [
    {
     "data": {
      "text/plain": [
       "Country\n",
       "United States         12371\n",
       "India                  8364\n",
       "United Kingdom         3881\n",
       "Germany                3864\n",
       "Canada                 2175\n",
       "France                 1884\n",
       "Brazil                 1804\n",
       "Netherlands            1332\n",
       "Poland                 1259\n",
       "Australia              1199\n",
       "Spain                  1157\n",
       "Italy                  1115\n",
       "Russian Federation     1085\n",
       "Sweden                  879\n",
       "Pakistan                802\n",
       "Name: count, dtype: int64"
      ]
     },
     "execution_count": 35,
     "metadata": {},
     "output_type": "execute_result"
    }
   ],
   "source": [
    "top_countries = survey_df.Country.value_counts().head(15)\n",
    "top_countries"
   ]
  },
  {
   "cell_type": "markdown",
   "metadata": {},
   "source": [
    "We can visualize this information using a bar chart."
   ]
  },
  {
   "cell_type": "code",
   "execution_count": 36,
   "metadata": {},
   "outputs": [
    {
     "data": {
      "image/png": "[encoded data removed]",
      "text/plain": [
       "<Figure size 1200x600 with 1 Axes>"
      ]
     },
     "metadata": {
      "needs_background": "light"
     },
     "output_type": "display_data"
    }
   ],
   "source": [
    "plt.figure(figsize=(12,6))\n",
    "plt.xticks(rotation=75)\n",
    "plt.title(schema.Country)\n",
    "sns.barplot(x=top_countries.index, y=top_countries);"
   ]
  },
  {
   "cell_type": "markdown",
   "metadata": {},
   "source": [
    "It appears that a disproportionately high number of respondents are from the US and India, probably because the survey is in English, and these countries have the highest English-speaking populations. We can already see that the survey may not be representative of the global programming community - especially from non-English speaking countries. Programmers from non-English speaking countries are almost certainly underrepresented.\n",
    "\n",
    "**Exercise**:\n",
    "Try finding the percentage of responses from English-speaking vs. non-English speaking countries. You can use [this list of languages spoken in different countries](https://github.com/JovianML/opendatasets/blob/master/data/countries-languages-spoken/countries-languages.csv)."
   ]
  },
  {
   "cell_type": "markdown",
   "metadata": {},
   "source": [
    "### Age\n",
    "\n",
    "The distribution of respondents' age is another crucial factor to look at. We can use a histogram to visualize it. "
   ]
  },
  {
   "cell_type": "code",
   "execution_count": 37,
   "metadata": {},
   "outputs": [
    {
     "data": {
      "image/png": "[encoded data removed]",
      "text/plain": [
       "<Figure size 1200x600 with 1 Axes>"
      ]
     },
     "metadata": {
      "needs_background": "light"
     },
     "output_type": "display_data"
    }
   ],
   "source": [
    "plt.figure(figsize=(12, 6))\n",
    "plt.title(schema.Age)\n",
    "plt.xlabel('Age')\n",
    "plt.ylabel('Number of respondents')\n",
    "\n",
    "plt.hist(survey_df.Age, bins=np.arange(10,80,5), color='purple');"
   ]
  },
  {
   "cell_type": "markdown",
   "metadata": {},
   "source": [
    "It appears that a large percentage of respondents are 20-45 years old. It's somewhat representative of the programming community in general. Many young people have taken up computer science as their field of study or profession in the last 20 years.\n",
    "\n",
    "**Exercise**: You may want to filter out responses by age (or age group) if you'd like to analyze and compare the survey results for different age groups. Create a new column called AgeGroup containing values like `Less than 10 years`, `10-18 years`, `18-30 years`, `30-45 years`, `45-60 years` and `Older than 60 years`. Then, repeat the analysis in the rest of this notebook for each age group.\n"
   ]
  },
  {
   "cell_type": "markdown",
   "metadata": {},
   "source": [
    "### Gender\n",
    "\n",
    "Let's look at the distribution of responses for the Gender. It's a well-known fact that women and non-binary genders are underrepresented in the programming community, so we might expect to see a skewed distribution here."
   ]
  },
  {
   "cell_type": "code",
   "execution_count": 38,
   "metadata": {},
   "outputs": [
    {
     "data": {
      "text/plain": [
       "'Which of the following describe you, if any? Please check all that apply. If you prefer not to answer, you may leave this question blank.'"
      ]
     },
     "execution_count": 38,
     "metadata": {},
     "output_type": "execute_result"
    }
   ],
   "source": [
    "schema.Gender"
   ]
  },
  {
   "cell_type": "code",
   "execution_count": 39,
   "metadata": {},
   "outputs": [
    {
     "data": {
      "text/plain": [
       "Gender\n",
       "Man                                                  45895\n",
       "Woman                                                 3835\n",
       "Non-binary, genderqueer, or gender non-conforming      385\n",
       "Name: count, dtype: int64"
      ]
     },
     "execution_count": 39,
     "metadata": {},
     "output_type": "execute_result"
    }
   ],
   "source": [
    "gender_counts = survey_df.Gender.value_counts()\n",
    "gender_counts"
   ]
  },
  {
   "cell_type": "markdown",
   "metadata": {},
   "source": [
    "A pie chart would be a great way to visualize the distribution."
   ]
  },
  {
   "cell_type": "code",
   "execution_count": 45,
   "metadata": {},
   "outputs": [
    {
     "data": {
      "image/png": "[encoded data removed]",
      "text/plain": [
       "<Figure size 1200x600 with 1 Axes>"
      ]
     },
     "metadata": {},
     "output_type": "display_data"
    }
   ],
   "source": [
    "plt.figure(figsize=(12,6))\n",
    "plt.title(schema.Gender)\n",
    "plt.pie(gender_counts, labels=gender_counts.index, autopct='%1.1f%%', startangle=180);"
   ]
  },
  {
   "cell_type": "markdown",
   "metadata": {},
   "source": [
    "Only about 8% of survey respondents who have answered the question identify as women or non-binary. This number is lower than the overall percentage of women & non-binary genders in the programming community - which is estimated to be around 12%. \n",
    "\n",
    "**Exercise**: It would be interesting to compare the survey responses & preferences across genders. Repeat this analysis with these breakdowns. How do the relative education levels differ across genders? How do the salaries vary? You may find this analysis on the [Gender Divide in Data Science](https://medium.com/datadriveninvestor/exploratory-data-analysis-eda-understanding-the-gender-divide-in-data-science-roles-9faa5da44f5b) useful."
   ]
  },
  {
   "cell_type": "markdown",
   "metadata": {},
   "source": [
    "### Education Level\n",
    "\n",
    "Formal education in computer science is often considered an essential requirement for becoming a programmer. However, there are many free resources & tutorials available online to learn programming. Let's compare the education levels of respondents to gain some insight into this. We'll use a horizontal bar plot here."
   ]
  },
  {
   "cell_type": "code",
   "execution_count": 46,
   "metadata": {},
   "outputs": [
    {
     "data": {
      "image/png": "[encoded data removed]",
      "text/plain": [
       "<Figure size 900x500 with 1 Axes>"
      ]
     },
     "metadata": {
      "needs_background": "light"
     },
     "output_type": "display_data"
    }
   ],
   "source": [
    "sns.countplot(y=survey_df.EdLevel)\n",
    "plt.xticks(rotation=75);\n",
    "plt.title(schema['EdLevel'])\n",
    "plt.ylabel(None);"
   ]
  },
  {
   "cell_type": "markdown",
   "metadata": {},
   "source": [
    "It appears that well over half of the respondents hold a bachelor's or master's degree, so most programmers seem to have some college education. However, it's not clear from this graph alone if they hold a degree in computer science.\n",
    "\n",
    "**Exercises**: The graph currently shows the number of respondents for each option. Can you modify it to show the percentage instead? Further, try comparing the percentages for each degree for men vs. women. "
   ]
  },
  {
   "cell_type": "markdown",
   "metadata": {},
   "source": [
    "Let's also plot undergraduate majors, but this time we'll convert the numbers into percentages and sort the values to make it easier to visualize the order."
   ]
  },
  {
   "cell_type": "code",
   "execution_count": 47,
   "metadata": {},
   "outputs": [
    {
     "data": {
      "text/plain": [
       "'What was your primary field of study?'"
      ]
     },
     "execution_count": 47,
     "metadata": {},
     "output_type": "execute_result"
    }
   ],
   "source": [
    "schema.UndergradMajor"
   ]
  },
  {
   "cell_type": "code",
   "execution_count": 48,
   "metadata": {},
   "outputs": [
    {
     "data": {
      "image/png": "[encoded data removed]",
      "text/plain": [
       "<Figure size 900x500 with 1 Axes>"
      ]
     },
     "metadata": {
      "needs_background": "light"
     },
     "output_type": "display_data"
    }
   ],
   "source": [
    "undergrad_pct = survey_df.UndergradMajor.value_counts() * 100 / survey_df.UndergradMajor.count()\n",
    "\n",
    "sns.barplot(x=undergrad_pct, y=undergrad_pct.index)\n",
    "\n",
    "plt.title(schema.UndergradMajor)\n",
    "plt.ylabel(None);\n",
    "plt.xlabel('Percentage');"
   ]
  },
  {
   "cell_type": "markdown",
   "metadata": {},
   "source": [
    "It turns out that 40% of programmers holding a college degree have a field of study other than computer science - which is very encouraging. It seems to suggest that while a college education is helpful in general, you do not need to pursue a major in computer science to become a successful programmer.\n",
    "\n",
    "**Exercises**: Analyze the `NEWEdImpt` column for respondents who hold some college degree vs. those who don't. Do you notice any difference in opinion?\n"
   ]
  },
  {
   "cell_type": "markdown",
   "metadata": {},
   "source": [
    "### Employment\n",
    "\n",
    "Freelancing or contract work is a common choice among programmers, so it would be interesting to compare the breakdown between full-time, part-time, and freelance work. Let's visualize the data from the `Employment` column."
   ]
  },
  {
   "cell_type": "code",
   "execution_count": 49,
   "metadata": {},
   "outputs": [
    {
     "data": {
      "text/plain": [
       "'Which of the following best describes your current employment status?'"
      ]
     },
     "execution_count": 49,
     "metadata": {},
     "output_type": "execute_result"
    }
   ],
   "source": [
    "schema.Employment"
   ]
  },
  {
   "cell_type": "code",
   "execution_count": 50,
   "metadata": {},
   "outputs": [
    {
     "data": {
      "image/png": "[encoded data removed]",
      "text/plain": [
       "<Figure size 900x500 with 1 Axes>"
      ]
     },
     "metadata": {
      "needs_background": "light"
     },
     "output_type": "display_data"
    }
   ],
   "source": [
    "(survey_df.Employment.value_counts(normalize=True, ascending=True)*100).plot(kind='barh', color='g')\n",
    "plt.title(schema.Employment)\n",
    "plt.xlabel('Percentage');"
   ]
  },
  {
   "cell_type": "markdown",
   "metadata": {},
   "source": [
    "It appears that close to 10% of respondents are employed part time or as freelancers.\n",
    "\n",
    "**Exercise**: Add a new column `EmploymentType` containing the values `Enthusiast` (student or not employed but looking for work), `Professional` (employed full-time, part-time or freelancing), and `Other` (not employed or retired). For each of the graphs that follow, show a comparison between `Enthusiast` and `Professional`.\n",
    "\n"
   ]
  },
  {
   "cell_type": "markdown",
   "metadata": {},
   "source": [
    "The `DevType` field contains information about the roles held by respondents. Since the question allows multiple answers, the column contains lists of values separated by a semi-colon `;`, making it a bit harder to analyze directly."
   ]
  },
  {
   "cell_type": "code",
   "execution_count": 51,
   "metadata": {},
   "outputs": [
    {
     "data": {
      "text/plain": [
       "'Which of the following describe you? Please select all that apply.'"
      ]
     },
     "execution_count": 51,
     "metadata": {},
     "output_type": "execute_result"
    }
   ],
   "source": [
    "schema.DevType"
   ]
  },
  {
   "cell_type": "code",
   "execution_count": 52,
   "metadata": {},
   "outputs": [
    {
     "data": {
      "text/plain": [
       "DevType\n",
       "Developer, full-stack                                                                                                                                                           4396\n",
       "Developer, back-end                                                                                                                                                             3056\n",
       "Developer, back-end;Developer, front-end;Developer, full-stack                                                                                                                  2214\n",
       "Developer, back-end;Developer, full-stack                                                                                                                                       1465\n",
       "Developer, front-end                                                                                                                                                            1390\n",
       "                                                                                                                                                                                ... \n",
       "Database administrator;Developer, back-end;Developer, front-end;Developer, full-stack;Developer, QA or test;Senior executive/VP                                                    1\n",
       "Database administrator;Developer, back-end;Developer, front-end;Developer, full-stack;Product manager;Senior executive/VP                                                          1\n",
       "Developer, back-end;Developer, full-stack;Developer, mobile;DevOps specialist;Educator;System administrator                                                                        1\n",
       "Data or business analyst;Database administrator;Developer, back-end;Developer, desktop or enterprise applications;Developer, front-end;Developer, mobile;Engineering manager       1\n",
       "Data or business analyst;Developer, mobile;Senior executive/VP;System administrator                                                                                                1\n",
       "Name: count, Length: 8213, dtype: int64"
      ]
     },
     "execution_count": 52,
     "metadata": {},
     "output_type": "execute_result"
    }
   ],
   "source": [
    "survey_df.DevType.value_counts()"
   ]
  },
  {
   "cell_type": "markdown",
   "metadata": {},
   "source": [
    "Let's define a helper function that turns a column containing lists of values (like `survey_df.DevType`) into a data frame with one column for each possible option."
   ]
  },
  {
   "cell_type": "code",
   "execution_count": 53,
   "metadata": {},
   "outputs": [],
   "source": [
    "def split_multicolumn(col_series):\n",
    "    result_df = col_series.to_frame()\n",
    "    options = []\n",
    "    # Iterate over the column\n",
    "    for idx, value  in col_series[col_series.notnull()].iteritems():\n",
    "        # Break each value into list of options\n",
    "        for option in value.split(';'):\n",
    "            # Add the option as a column to result\n",
    "            if not option in result_df.columns:\n",
    "                options.append(option)\n",
    "                result_df[option] = False\n",
    "            # Mark the value in the option column as True\n",
    "            result_df.at[idx, option] = True\n",
    "    return result_df[options]"
   ]
  },
  {
   "cell_type": "code",
   "execution_count": 54,
   "metadata": {},
   "outputs": [
    {
     "ename": "AttributeError",
     "evalue": "'Series' object has no attribute 'iteritems'",
     "output_type": "error",
     "traceback": [
      "\u001b[1;31m---------------------------------------------------------------------------\u001b[0m",
      "\u001b[1;31mAttributeError\u001b[0m                            Traceback (most recent call last)",
      "\u001b[1;32m~\\AppData\\Local\\Temp\\ipykernel_10764\\4143856628.py\u001b[0m in \u001b[0;36m?\u001b[1;34m()\u001b[0m\n\u001b[1;32m----> 1\u001b[1;33m \u001b[0mdev_type_df\u001b[0m \u001b[1;33m=\u001b[0m \u001b[0msplit_multicolumn\u001b[0m\u001b[1;33m(\u001b[0m\u001b[0msurvey_df\u001b[0m\u001b[1;33m.\u001b[0m\u001b[0mDevType\u001b[0m\u001b[1;33m)\u001b[0m\u001b[1;33m\u001b[0m\u001b[1;33m\u001b[0m\u001b[0m\n\u001b[0m",
      "\u001b[1;32m~\\AppData\\Local\\Temp\\ipykernel_10764\\3580593157.py\u001b[0m in \u001b[0;36m?\u001b[1;34m(col_series)\u001b[0m\n\u001b[0;32m      1\u001b[0m \u001b[1;32mdef\u001b[0m \u001b[0msplit_multicolumn\u001b[0m\u001b[1;33m(\u001b[0m\u001b[0mcol_series\u001b[0m\u001b[1;33m)\u001b[0m\u001b[1;33m:\u001b[0m\u001b[1;33m\u001b[0m\u001b[1;33m\u001b[0m\u001b[0m\n\u001b[0;32m      2\u001b[0m     \u001b[0mresult_df\u001b[0m \u001b[1;33m=\u001b[0m \u001b[0mcol_series\u001b[0m\u001b[1;33m.\u001b[0m\u001b[0mto_frame\u001b[0m\u001b[1;33m(\u001b[0m\u001b[1;33m)\u001b[0m\u001b[1;33m\u001b[0m\u001b[1;33m\u001b[0m\u001b[0m\n\u001b[0;32m      3\u001b[0m     \u001b[0moptions\u001b[0m \u001b[1;33m=\u001b[0m \u001b[1;33m[\u001b[0m\u001b[1;33m]\u001b[0m\u001b[1;33m\u001b[0m\u001b[1;33m\u001b[0m\u001b[0m\n\u001b[0;32m      4\u001b[0m     \u001b[1;31m# Iterate over the column\u001b[0m\u001b[1;33m\u001b[0m\u001b[1;33m\u001b[0m\u001b[0m\n\u001b[1;32m----> 5\u001b[1;33m     \u001b[1;32mfor\u001b[0m \u001b[0midx\u001b[0m\u001b[1;33m,\u001b[0m \u001b[0mvalue\u001b[0m  \u001b[1;32min\u001b[0m \u001b[0mcol_series\u001b[0m\u001b[1;33m[\u001b[0m\u001b[0mcol_series\u001b[0m\u001b[1;33m.\u001b[0m\u001b[0mnotnull\u001b[0m\u001b[1;33m(\u001b[0m\u001b[1;33m)\u001b[0m\u001b[1;33m]\u001b[0m\u001b[1;33m.\u001b[0m\u001b[0miteritems\u001b[0m\u001b[1;33m(\u001b[0m\u001b[1;33m)\u001b[0m\u001b[1;33m:\u001b[0m\u001b[1;33m\u001b[0m\u001b[1;33m\u001b[0m\u001b[0m\n\u001b[0m\u001b[0;32m      6\u001b[0m         \u001b[1;31m# Break each value into list of options\u001b[0m\u001b[1;33m\u001b[0m\u001b[1;33m\u001b[0m\u001b[0m\n\u001b[0;32m      7\u001b[0m         \u001b[1;32mfor\u001b[0m \u001b[0moption\u001b[0m \u001b[1;32min\u001b[0m \u001b[0mvalue\u001b[0m\u001b[1;33m.\u001b[0m\u001b[0msplit\u001b[0m\u001b[1;33m(\u001b[0m\u001b[1;34m';'\u001b[0m\u001b[1;33m)\u001b[0m\u001b[1;33m:\u001b[0m\u001b[1;33m\u001b[0m\u001b[1;33m\u001b[0m\u001b[0m\n\u001b[0;32m      8\u001b[0m             \u001b[1;31m# Add the option as a column to result\u001b[0m\u001b[1;33m\u001b[0m\u001b[1;33m\u001b[0m\u001b[0m\n",
      "\u001b[1;32mC:\\python310\\lib\\site-packages\\pandas\\core\\generic.py\u001b[0m in \u001b[0;36m?\u001b[1;34m(self, name)\u001b[0m\n\u001b[0;32m   5985\u001b[0m             \u001b[1;32mand\u001b[0m \u001b[0mname\u001b[0m \u001b[1;32mnot\u001b[0m \u001b[1;32min\u001b[0m \u001b[0mself\u001b[0m\u001b[1;33m.\u001b[0m\u001b[0m_accessors\u001b[0m\u001b[1;33m\u001b[0m\u001b[1;33m\u001b[0m\u001b[0m\n\u001b[0;32m   5986\u001b[0m             \u001b[1;32mand\u001b[0m \u001b[0mself\u001b[0m\u001b[1;33m.\u001b[0m\u001b[0m_info_axis\u001b[0m\u001b[1;33m.\u001b[0m\u001b[0m_can_hold_identifiers_and_holds_name\u001b[0m\u001b[1;33m(\u001b[0m\u001b[0mname\u001b[0m\u001b[1;33m)\u001b[0m\u001b[1;33m\u001b[0m\u001b[1;33m\u001b[0m\u001b[0m\n\u001b[0;32m   5987\u001b[0m         ):\n\u001b[0;32m   5988\u001b[0m             \u001b[1;32mreturn\u001b[0m \u001b[0mself\u001b[0m\u001b[1;33m[\u001b[0m\u001b[0mname\u001b[0m\u001b[1;33m]\u001b[0m\u001b[1;33m\u001b[0m\u001b[1;33m\u001b[0m\u001b[0m\n\u001b[1;32m-> 5989\u001b[1;33m         \u001b[1;32mreturn\u001b[0m \u001b[0mobject\u001b[0m\u001b[1;33m.\u001b[0m\u001b[0m__getattribute__\u001b[0m\u001b[1;33m(\u001b[0m\u001b[0mself\u001b[0m\u001b[1;33m,\u001b[0m \u001b[0mname\u001b[0m\u001b[1;33m)\u001b[0m\u001b[1;33m\u001b[0m\u001b[1;33m\u001b[0m\u001b[0m\n\u001b[0m",
      "\u001b[1;31mAttributeError\u001b[0m: 'Series' object has no attribute 'iteritems'"
     ]
    }
   ],
   "source": [
    "dev_type_df = split_multicolumn(survey_df.DevType)"
   ]
  },
  {
   "cell_type": "code",
   "execution_count": 55,
   "metadata": {},
   "outputs": [
    {
     "ename": "NameError",
     "evalue": "name 'dev_type_df' is not defined",
     "output_type": "error",
     "traceback": [
      "\u001b[1;31m---------------------------------------------------------------------------\u001b[0m",
      "\u001b[1;31mNameError\u001b[0m                                 Traceback (most recent call last)",
      "Cell \u001b[1;32mIn[55], line 1\u001b[0m\n\u001b[1;32m----> 1\u001b[0m \u001b[43mdev_type_df\u001b[49m\n",
      "\u001b[1;31mNameError\u001b[0m: name 'dev_type_df' is not defined"
     ]
    }
   ],
   "source": [
    "dev_type_df"
   ]
  },
  {
   "cell_type": "markdown",
   "metadata": {},
   "source": [
    "The `dev_type_df` has one column for each option that can be selected as a response. If a respondent has chosen an option, the corresponding column's value is `True`. Otherwise, it is `False`.\n",
    "\n",
    "We can now use the column-wise totals to identify the most common roles.\n"
   ]
  },
  {
   "cell_type": "code",
   "execution_count": null,
   "metadata": {},
   "outputs": [],
   "source": [
    "dev_type_totals = dev_type_df.sum().sort_values(ascending=False)\n",
    "dev_type_totals"
   ]
  },
  {
   "cell_type": "markdown",
   "metadata": {},
   "source": [
    "As one might expect, the most common roles include \"Developer\" in the name. \n",
    "\n",
    "**Exercises**: \n",
    "\n",
    "* Can you figure out what percentage of respondents work in roles related to data science? \n",
    "* Which positions have the highest percentage of women?"
   ]
  },
  {
   "cell_type": "markdown",
   "metadata": {},
   "source": [
    "We've only explored a handful of columns from the 20 columns that we selected. Explore and visualize the remaining columns using the empty cells below."
   ]
  },
  {
   "cell_type": "code",
   "execution_count": null,
   "metadata": {},
   "outputs": [],
   "source": []
  },
  {
   "cell_type": "code",
   "execution_count": null,
   "metadata": {},
   "outputs": [],
   "source": []
  },
  {
   "cell_type": "code",
   "execution_count": null,
   "metadata": {},
   "outputs": [],
   "source": []
  },
  {
   "cell_type": "markdown",
   "metadata": {},
   "source": [
    "Let's save and upload our work before continuing."
   ]
  },
  {
   "cell_type": "code",
   "execution_count": null,
   "metadata": {},
   "outputs": [],
   "source": [
    "import jovian"
   ]
  },
  {
   "cell_type": "code",
   "execution_count": null,
   "metadata": {},
   "outputs": [],
   "source": [
    "jovian.commit()"
   ]
  },
  {
   "cell_type": "markdown",
   "metadata": {},
   "source": [
    "## Asking and Answering Questions\n",
    "\n",
    "We've already gained several insights about the respondents and the programming community by exploring individual columns of the dataset. Let's ask some specific questions and try to answer them using data frame operations and visualizations."
   ]
  },
  {
   "cell_type": "markdown",
   "metadata": {},
   "source": [
    "#### Q: What are the most popular programming languages in 2020? \n",
    "\n",
    "To answer, this we can use the `LanguageWorkedWith` column. Similar to `DevType`, respondents were allowed to choose multiple options here."
   ]
  },
  {
   "cell_type": "code",
   "execution_count": null,
   "metadata": {},
   "outputs": [],
   "source": [
    "survey_df.LanguageWorkedWith"
   ]
  },
  {
   "cell_type": "markdown",
   "metadata": {},
   "source": [
    "First, we'll split this column into a data frame containing a column of each language listed in the options."
   ]
  },
  {
   "cell_type": "code",
   "execution_count": null,
   "metadata": {},
   "outputs": [],
   "source": [
    "languages_worked_df = split_multicolumn(survey_df.LanguageWorkedWith)"
   ]
  },
  {
   "cell_type": "code",
   "execution_count": null,
   "metadata": {},
   "outputs": [],
   "source": [
    "languages_worked_df"
   ]
  },
  {
   "cell_type": "markdown",
   "metadata": {},
   "source": [
    "It appears that a total of 25 languages were included among the options. Let's aggregate these to identify the percentage of respondents who selected each language.\n"
   ]
  },
  {
   "cell_type": "code",
   "execution_count": null,
   "metadata": {},
   "outputs": [],
   "source": [
    "languages_worked_percentages = languages_worked_df.mean().sort_values(ascending=False) * 100\n",
    "languages_worked_percentages"
   ]
  },
  {
   "cell_type": "markdown",
   "metadata": {},
   "source": [
    "We can plot this information using a horizontal bar chart."
   ]
  },
  {
   "cell_type": "code",
   "execution_count": null,
   "metadata": {},
   "outputs": [],
   "source": [
    "plt.figure(figsize=(12, 12))\n",
    "sns.barplot(x=languages_worked_percentages, y=languages_worked_percentages.index)\n",
    "plt.title(\"Languages used in the past year\");\n",
    "plt.xlabel('count');"
   ]
  },
  {
   "cell_type": "markdown",
   "metadata": {},
   "source": [
    "Perhaps unsurprisingly, Javascript & HTML/CSS comes out at the top as web development is one of today's most sought skills. It also happens to be one of the easiest to get started. SQL is necessary for working with relational databases, so it's no surprise that most programmers work with SQL regularly. Python seems to be the popular choice for other forms of development, beating out Java, which was the industry standard for server & application development for over two decades.\n",
    "\n",
    "**Exercises**:\n",
    "\n",
    "* What are the most common languages used by students? How does the list compare with the most common languages used by professional developers?\n",
    "* What are the most common languages among respondents who do not describe themselves as \"Developer, front-end\"?\n",
    "* What are the most common languages among respondents who work in fields related to data science?\n",
    "* What are the most common languages used by developers older than 35 years of age? \n",
    "* What are the most common languages used by developers in your home country?"
   ]
  },
  {
   "cell_type": "markdown",
   "metadata": {},
   "source": [
    "#### Q: Which languages are the most people interested to learn over the next year?\n",
    "\n",
    "For this, we can use the `LanguageDesireNextYear` column, with similar processing as the previous one."
   ]
  },
  {
   "cell_type": "code",
   "execution_count": null,
   "metadata": {},
   "outputs": [],
   "source": [
    "languages_interested_df = split_multicolumn(survey_df.LanguageDesireNextYear)\n",
    "languages_interested_percentages = languages_interested_df.mean().sort_values(ascending=False) * 100\n",
    "languages_interested_percentages"
   ]
  },
  {
   "cell_type": "code",
   "execution_count": null,
   "metadata": {},
   "outputs": [],
   "source": [
    "plt.figure(figsize=(12, 12))\n",
    "sns.barplot(x=languages_interested_percentages, y=languages_interested_percentages.index)\n",
    "plt.title(\"Languages people are intersted in learning over the next year\");\n",
    "plt.xlabel('count');"
   ]
  },
  {
   "cell_type": "markdown",
   "metadata": {},
   "source": [
    "Once again, it's not surprising that Python is the language most people are interested in learning - since it is an easy-to-learn general-purpose programming language well suited for a variety of domains: application development, numerical computing, data analysis, machine learning, big data, cloud automation, web scraping, scripting, etc. We're using Python for this very analysis, so we're in good company!\n",
    "\n",
    "**Exercises**: Repeat the exercises from the previous question, replacing \"most common languages\" with \"languages people are interested in learning/using.\""
   ]
  },
  {
   "cell_type": "markdown",
   "metadata": {},
   "source": [
    "#### Q:  Which are the most loved languages, i.e., a high percentage of people who have used the language want to continue learning & using it over the next year?\n",
    "\n",
    "While this question may seem tricky at first, it's straightforward to solve using Pandas array operations. Here's what we can do:\n",
    "\n",
    "- Create a new data frame `languages_loved_df` that contains a `True` value for a language only if the corresponding values in `languages_worked_df` and `languages_interested_df` are both `True`\n",
    "- Take the column-wise sum of `languages_loved_df` and divide it by the column-wise sum of `languages_worked_df` to get the percentage of respondents who \"love\" the language\n",
    "- Sort the results in decreasing order and plot a horizontal bar graph"
   ]
  },
  {
   "cell_type": "code",
   "execution_count": null,
   "metadata": {},
   "outputs": [],
   "source": [
    "languages_loved_df = languages_worked_df & languages_interested_df"
   ]
  },
  {
   "cell_type": "code",
   "execution_count": null,
   "metadata": {},
   "outputs": [],
   "source": [
    "languages_loved_percentages = (languages_loved_df.sum() * 100/ languages_worked_df.sum()).sort_values(ascending=False)"
   ]
  },
  {
   "cell_type": "code",
   "execution_count": null,
   "metadata": {},
   "outputs": [],
   "source": [
    "plt.figure(figsize=(12, 12))\n",
    "sns.barplot(x=languages_loved_percentages, y=languages_loved_percentages.index)\n",
    "plt.title(\"Most loved languages\");\n",
    "plt.xlabel('count');"
   ]
  },
  {
   "cell_type": "markdown",
   "metadata": {},
   "source": [
    "[Rust](https://www.rust-lang.org) has been StackOverflow's most-loved language for [four years in a row](https://stackoverflow.blog/2020/01/20/what-is-rust-and-why-is-it-so-popular/). The second most-loved language is TypeScript, a popular alternative to JavaScript for web development.\n",
    "\n",
    "Python features at number 3, despite already being one of the most widely-used languages in the world. Python has a solid foundation, is easy to learn & use, has a large ecosystem of domain-specific libraries, and a massive worldwide community.\n",
    "\n",
    "**Exercises:** What are the most dreaded languages, i.e., languages which people have used in the past year but do not want to learn/use over the next year. Hint: `~languages_interested_df`."
   ]
  },
  {
   "cell_type": "markdown",
   "metadata": {},
   "source": [
    "#### Q: In which countries do developers work the highest number of hours per week? Consider countries with more than 250 responses only.\n",
    "\n",
    "To answer this question, we'll need to use the `groupby` data frame method to aggregate the rows for each country. We'll also need to filter the results to only include the countries with more than 250 respondents."
   ]
  },
  {
   "cell_type": "code",
   "execution_count": null,
   "metadata": {},
   "outputs": [],
   "source": [
    "countries_df = survey_df.groupby('Country')[['WorkWeekHrs']].mean().sort_values('WorkWeekHrs', ascending=False)"
   ]
  },
  {
   "cell_type": "code",
   "execution_count": null,
   "metadata": {},
   "outputs": [],
   "source": [
    "high_response_countries_df = countries_df.loc[survey_df.Country.value_counts() > 250].head(15)"
   ]
  },
  {
   "cell_type": "code",
   "execution_count": null,
   "metadata": {},
   "outputs": [],
   "source": [
    "high_response_countries_df"
   ]
  },
  {
   "cell_type": "markdown",
   "metadata": {},
   "source": [
    "The Asian countries like Iran, China, and Israel have the highest working hours, followed by the United States. However, there isn't too much variation overall, and the average working hours seem to be around 40 hours per week.\n",
    "\n",
    "**Exercises:**\n",
    "\n",
    "* How do the average work hours compare across continents? You may find this list of [countries in each continent](https://hub.jovian.ml/wp-content/uploads/2020/09/countries.csv) useful.\n",
    "* Which role has the highest average number of hours worked per week? Which one has the lowest?\n",
    "* How do the hours worked compare between freelancers and developers working full-time?"
   ]
  },
  {
   "cell_type": "markdown",
   "metadata": {},
   "source": [
    "#### Q: How important is it to start young to build a career in programming?\n",
    "\n",
    "Let's create a scatter plot of `Age` vs. `YearsCodePro` (i.e., years of coding experience) to answer this question."
   ]
  },
  {
   "cell_type": "code",
   "execution_count": null,
   "metadata": {},
   "outputs": [],
   "source": [
    "schema.YearsCodePro"
   ]
  },
  {
   "cell_type": "code",
   "execution_count": null,
   "metadata": {},
   "outputs": [],
   "source": [
    "sns.scatterplot(x='Age', y='YearsCodePro', hue='Hobbyist', data=survey_df)\n",
    "plt.xlabel(\"Age\")\n",
    "plt.ylabel(\"Years of professional coding experience\");"
   ]
  },
  {
   "cell_type": "markdown",
   "metadata": {},
   "source": [
    "You can see points all over the graph, which indicates that you can **start programming professionally at any age**. Many people who have been coding for several decades professionally also seem to enjoy it as a hobby.\n",
    "\n",
    "We can also view the distribution of the `Age1stCode` column to see when the respondents tried programming for the first time."
   ]
  },
  {
   "cell_type": "code",
   "execution_count": null,
   "metadata": {},
   "outputs": [],
   "source": [
    "plt.title(schema.Age1stCode)\n",
    "sns.histplot(x=survey_df.Age1stCode, bins=30, kde=True);"
   ]
  },
  {
   "cell_type": "markdown",
   "metadata": {},
   "source": [
    "As you might expect, most people seem to have had some exposure to programming before the age of 40. However, but there are people of all ages and walks of life learning to code.\n",
    "\n",
    "**Exercises**:\n",
    "\n",
    "* How does programming experience change opinions & preferences? Repeat the entire analysis while comparing the responses of people who have more than ten years of professional programming experience vs. those who don't. Do you see any interesting trends?\n",
    "* Compare the years of professional coding experience across different genders. \n"
   ]
  },
  {
   "cell_type": "code",
   "execution_count": null,
   "metadata": {},
   "outputs": [],
   "source": []
  },
  {
   "cell_type": "markdown",
   "metadata": {},
   "source": [
    "Hopefully, you are already thinking of many more questions you'd like to answer using this data. Use the empty cells below to ask and answer more questions."
   ]
  },
  {
   "cell_type": "code",
   "execution_count": null,
   "metadata": {},
   "outputs": [],
   "source": []
  },
  {
   "cell_type": "code",
   "execution_count": null,
   "metadata": {},
   "outputs": [],
   "source": []
  },
  {
   "cell_type": "code",
   "execution_count": null,
   "metadata": {},
   "outputs": [],
   "source": []
  },
  {
   "cell_type": "markdown",
   "metadata": {},
   "source": [
    "Let's save and commit our work before continuing"
   ]
  },
  {
   "cell_type": "code",
   "execution_count": null,
   "metadata": {},
   "outputs": [],
   "source": [
    "import jovian"
   ]
  },
  {
   "cell_type": "code",
   "execution_count": null,
   "metadata": {},
   "outputs": [],
   "source": [
    "jovian.commit()"
   ]
  },
  {
   "cell_type": "markdown",
   "metadata": {},
   "source": [
    "## Inferences and Conclusions\n",
    "\n",
    "We've drawn many inferences from the survey. Here's a summary of a few of them:\n",
    "\n",
    "- Based on the survey respondents' demographics, we can infer that the survey is somewhat representative of the overall programming community. However, it has fewer responses from programmers in non-English-speaking countries and women & non-binary genders.\n",
    "\n",
    "- The programming community is not as diverse as it can be. Although things are improving, we should make more efforts to support & encourage underrepresented communities, whether in terms of age, country, race, gender, or otherwise.\n",
    "\n",
    "\n",
    "- Although most programmers hold a college degree, a reasonably large percentage did not have computer science as their college major. Hence, a computer science degree isn't compulsory for learning to code or building a career in programming.\n",
    "\n",
    "- A significant percentage of programmers either work part-time or as freelancers, which can be a great way to break into the field, especially when you're just getting started.\n",
    "\n",
    "- Javascript & HTML/CSS are the most used programming languages in 2020, closely followed by SQL & Python.\n",
    "\n",
    "- Python is the language most people are interested in learning - since it is an easy-to-learn general-purpose programming language well suited for various domains.\n",
    "\n",
    "- Rust and TypeScript are the most \"loved\" languages in 2020, both of which have small but fast-growing communities. Python is a close third, despite already being a widely used language.\n",
    "\n",
    "- Programmers worldwide seem to be working for around 40 hours a week on average, with slight variations by country.\n",
    "\n",
    "- You can learn and start programming professionally at any age. You're likely to have a long and fulfilling career if you also enjoy programming as a hobby.\n"
   ]
  },
  {
   "cell_type": "markdown",
   "metadata": {},
   "source": [
    "## Exercises\n",
    "\n",
    "There's a wealth of information to be discovered using the survey, and we've barely scratched the surface. Here are some ideas for further exploration:\n",
    "\n",
    "- Repeat the analysis for different age groups & genders, and compare the results\n",
    "- Pick a different set of columns (we chose 20 out of 65) to analyze other facets of the data\n",
    "- Prepare an analysis focusing on diversity - and identify areas where underrepresented communities are at par with the majority (e.g., education) and where they aren't (e.g., salaries)\n",
    "- Compare the results of this year's survey with the previous years and identify interesting trends\n"
   ]
  },
  {
   "cell_type": "markdown",
   "metadata": {},
   "source": [
    "## References and Future Work\n",
    "\n",
    "Check out the following resources to learn more about the dataset and tools used in this notebook:\n",
    "\n",
    "- Stack Overflow Developer Survey: https://insights.stackoverflow.com/survey\n",
    "- Pandas user guide: https://pandas.pydata.org/docs/user_guide/index.html\n",
    "- Matplotlib user guide: https://matplotlib.org/3.3.1/users/index.html\n",
    "- Seaborn user guide & tutorial: https://seaborn.pydata.org/tutorial.html\n",
    "- `opendatasets` Python library: https://github.com/JovianML/opendatasets\n",
    "\n",
    "As a next step, you can try out a project on another dataset of your choice: https://jovian.ml/aakashns/zerotopandas-course-project-starter ."
   ]
  },
  {
   "cell_type": "code",
   "execution_count": null,
   "metadata": {},
   "outputs": [],
   "source": [
    "import jovian"
   ]
  },
  {
   "cell_type": "code",
   "execution_count": null,
   "metadata": {},
   "outputs": [],
   "source": [
    "jovian.commit()"
   ]
  },
  {
   "cell_type": "code",
   "execution_count": null,
   "metadata": {},
   "outputs": [],
   "source": []
  },
  {
   "cell_type": "code",
   "execution_count": null,
   "metadata": {},
   "outputs": [],
   "source": []
  }
 ],
 "metadata": {
  "kernelspec": {
   "display_name": "Python 3 (ipykernel)",
   "language": "python",
   "name": "python3"
  },
  "language_info": {
   "codemirror_mode": {
    "name": "ipython",
    "version": 3
   },
   "file_extension": ".py",
   "mimetype": "text/x-python",
   "name": "python",
   "nbconvert_exporter": "python",
   "pygments_lexer": "ipython3",
   "version": "3.10.4"
  }
 },
 "nbformat": 4,
 "nbformat_minor": 4
}
